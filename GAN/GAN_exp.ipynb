{
 "cells": [
  {
   "cell_type": "code",
   "execution_count": 1,
   "metadata": {},
   "outputs": [],
   "source": [
    "import sys\n",
    "sys.path.append(\"..\")\n",
    "\n",
    "from general import *\n",
    "from general.model_utils import *"
   ]
  },
  {
   "cell_type": "code",
   "execution_count": 2,
   "metadata": {},
   "outputs": [],
   "source": [
    "class Generator(nn.Module):\n",
    "    def __init__(self, embedding_size = 256, channels = 3, filter_count = np.array([8,4,4,2,1])*64):\n",
    "        super(Generator, self).__init__()\n",
    "        self.embedding_size = embedding_size\n",
    "        self.filter_count = filter_count\n",
    "        self.channels = channels\n",
    "        \n",
    "        self.generator = nn.Sequential(\n",
    "            CT2D_BN_A(in_channels = self.embedding_size, out_channels = self.filter_count[-1], kernel_size = 5, stride = 2, activation_type = \"relu\"),\n",
    "            CT2D_BN_A(in_channels = self.filter_count[-1], out_channels = self.filter_count[-2], kernel_size = 3, stride = 2, activation_type = \"relu\"),\n",
    "            CT2D_BN_A(in_channels = self.filter_count[-2], out_channels = self.filter_count[-3], kernel_size = 3, stride = 2, activation_type = \"relu\"),\n",
    "            CT2D_BN_A(in_channels = self.filter_count[-3], out_channels = self.filter_count[-4], kernel_size = 3, stride = 2, activation_type = \"relu\"),\n",
    "            CT2D_BN_A(in_channels = self.filter_count[-4], out_channels = self.channels, kernel_size = 4, stride = 2, activation_type=\"tanh\"),\n",
    "        )\n",
    "\n",
    "    def forward(self, embeddings):\n",
    "        return self.generator(embeddings)"
   ]
  },
  {
   "cell_type": "code",
   "execution_count": 3,
   "metadata": {},
   "outputs": [
    {
     "data": {
      "text/plain": [
       "torch.Size([1, 3, 128, 128])"
      ]
     },
     "execution_count": 3,
     "metadata": {},
     "output_type": "execute_result"
    }
   ],
   "source": [
    "Generator()(torch.rand(1,256,2,2)).shape"
   ]
  },
  {
   "cell_type": "code",
   "execution_count": 6,
   "metadata": {},
   "outputs": [
    {
     "data": {
      "text/plain": [
       "Generator(\n",
       "  (generator): Sequential(\n",
       "    (0): Sequential(\n",
       "      (0): ConvTranspose2d(256, 64, kernel_size=(5, 5), stride=(2, 2))\n",
       "      (1): BatchNorm2d(64, eps=1e-05, momentum=0.1, affine=True, track_running_stats=True)\n",
       "      (2): ReLU()\n",
       "    )\n",
       "    (1): Sequential(\n",
       "      (0): ConvTranspose2d(64, 128, kernel_size=(3, 3), stride=(2, 2))\n",
       "      (1): BatchNorm2d(128, eps=1e-05, momentum=0.1, affine=True, track_running_stats=True)\n",
       "      (2): ReLU()\n",
       "    )\n",
       "    (2): Sequential(\n",
       "      (0): ConvTranspose2d(128, 256, kernel_size=(3, 3), stride=(2, 2))\n",
       "      (1): BatchNorm2d(256, eps=1e-05, momentum=0.1, affine=True, track_running_stats=True)\n",
       "      (2): ReLU()\n",
       "    )\n",
       "    (3): Sequential(\n",
       "      (0): ConvTranspose2d(256, 256, kernel_size=(3, 3), stride=(2, 2))\n",
       "      (1): BatchNorm2d(256, eps=1e-05, momentum=0.1, affine=True, track_running_stats=True)\n",
       "      (2): ReLU()\n",
       "    )\n",
       "    (4): Sequential(\n",
       "      (0): ConvTranspose2d(256, 3, kernel_size=(4, 4), stride=(2, 2))\n",
       "      (1): BatchNorm2d(3, eps=1e-05, momentum=0.1, affine=True, track_running_stats=True)\n",
       "      (2): Tanh()\n",
       "    )\n",
       "  )\n",
       ")"
      ]
     },
     "execution_count": 6,
     "metadata": {},
     "output_type": "execute_result"
    }
   ],
   "source": [
    "Generator()"
   ]
  },
  {
   "cell_type": "code",
   "execution_count": null,
   "metadata": {},
   "outputs": [],
   "source": []
  },
  {
   "cell_type": "code",
   "execution_count": 4,
   "metadata": {},
   "outputs": [],
   "source": [
    "class Discriminator(nn.Module):\n",
    "    def __init__(self, channels = 3, filter_count = np.array([8,4,4,2,1])*64, classes = 1):\n",
    "        super(Discriminator, self).__init__()\n",
    "        self.channels = channels\n",
    "        self.filter_count = filter_count\n",
    "        self.classes = classes\n",
    "        self.discriminator = nn.Sequential(\n",
    "            C2D_BN_A(in_channels = self.channels, out_channels = self.filter_count[0], kernel_size = 5, stride = 3),\n",
    "            C2D_BN_A(in_channels = self.filter_count[0], out_channels = self.filter_count[1], kernel_size = 5, stride = 2),\n",
    "            C2D_BN_A(in_channels = self.filter_count[1], out_channels = self.filter_count[2], kernel_size = 5, stride = 2),\n",
    "            C2D_BN_A(in_channels = self.filter_count[2], out_channels = self.filter_count[3], kernel_size = 3, stride = 2),\n",
    "            C2D_BN_A(in_channels = self.filter_count[3], out_channels = self.classes, kernel_size = 3, stride = 2),\n",
    "            nn.Flatten(),\n",
    "            nn.Sigmoid()\n",
    "            )\n",
    "\n",
    "    def forward(self, images):\n",
    "        return self.discriminator(images)"
   ]
  },
  {
   "cell_type": "code",
   "execution_count": 5,
   "metadata": {},
   "outputs": [
    {
     "data": {
      "text/plain": [
       "torch.Size([12, 1])"
      ]
     },
     "execution_count": 5,
     "metadata": {},
     "output_type": "execute_result"
    }
   ],
   "source": [
    "Discriminator()(torch.rand(12,3,128,128)).shape"
   ]
  },
  {
   "cell_type": "code",
   "execution_count": 7,
   "metadata": {},
   "outputs": [
    {
     "data": {
      "text/plain": [
       "Discriminator(\n",
       "  (discriminator): Sequential(\n",
       "    (0): Sequential(\n",
       "      (0): Conv2d(3, 512, kernel_size=(5, 5), stride=(3, 3))\n",
       "      (1): BatchNorm2d(512, eps=1e-05, momentum=0.1, affine=True, track_running_stats=True)\n",
       "      (2): LeakyReLU(negative_slope=0.01)\n",
       "    )\n",
       "    (1): Sequential(\n",
       "      (0): Conv2d(512, 256, kernel_size=(5, 5), stride=(2, 2))\n",
       "      (1): BatchNorm2d(256, eps=1e-05, momentum=0.1, affine=True, track_running_stats=True)\n",
       "      (2): LeakyReLU(negative_slope=0.01)\n",
       "    )\n",
       "    (2): Sequential(\n",
       "      (0): Conv2d(256, 256, kernel_size=(5, 5), stride=(2, 2))\n",
       "      (1): BatchNorm2d(256, eps=1e-05, momentum=0.1, affine=True, track_running_stats=True)\n",
       "      (2): LeakyReLU(negative_slope=0.01)\n",
       "    )\n",
       "    (3): Sequential(\n",
       "      (0): Conv2d(256, 128, kernel_size=(3, 3), stride=(2, 2))\n",
       "      (1): BatchNorm2d(128, eps=1e-05, momentum=0.1, affine=True, track_running_stats=True)\n",
       "      (2): LeakyReLU(negative_slope=0.01)\n",
       "    )\n",
       "    (4): Sequential(\n",
       "      (0): Conv2d(128, 1, kernel_size=(3, 3), stride=(2, 2))\n",
       "      (1): BatchNorm2d(1, eps=1e-05, momentum=0.1, affine=True, track_running_stats=True)\n",
       "      (2): LeakyReLU(negative_slope=0.01)\n",
       "    )\n",
       "    (5): Flatten()\n",
       "    (6): Sigmoid()\n",
       "  )\n",
       ")"
      ]
     },
     "execution_count": 7,
     "metadata": {},
     "output_type": "execute_result"
    }
   ],
   "source": [
    "Discriminator()"
   ]
  },
  {
   "cell_type": "code",
   "execution_count": null,
   "metadata": {},
   "outputs": [],
   "source": []
  }
 ],
 "metadata": {
  "kernelspec": {
   "display_name": "Python 3",
   "language": "python",
   "name": "python3"
  },
  "language_info": {
   "codemirror_mode": {
    "name": "ipython",
    "version": 3
   },
   "file_extension": ".py",
   "mimetype": "text/x-python",
   "name": "python",
   "nbconvert_exporter": "python",
   "pygments_lexer": "ipython3",
   "version": "3.6.9"
  }
 },
 "nbformat": 4,
 "nbformat_minor": 4
}
