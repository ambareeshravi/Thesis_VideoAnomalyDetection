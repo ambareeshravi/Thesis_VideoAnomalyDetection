{
 "cells": [
  {
   "cell_type": "code",
   "execution_count": 1,
   "metadata": {},
   "outputs": [],
   "source": [
    "import sys\n",
    "sys.path.append(\"..\")"
   ]
  },
  {
   "cell_type": "code",
   "execution_count": 2,
   "metadata": {},
   "outputs": [],
   "source": [
    "from train_autoencoder import *\n",
    "from test_autoencoder import *"
   ]
  },
  {
   "cell_type": "code",
   "execution_count": 3,
   "metadata": {},
   "outputs": [],
   "source": [
    "from C2D_Models import *"
   ]
  },
  {
   "cell_type": "code",
   "execution_count": 4,
   "metadata": {},
   "outputs": [],
   "source": [
    "models = [\n",
    "#     C2D_AE_128_3x3(channels=1),\n",
    "    C2D_AE_128_3x3(channels=1),\n",
    "         ]\n",
    "\n",
    "model_names = [\n",
    "#     \"C2D_3x3_128_2xE_L2_FP\",\n",
    "    \"C2D_3x3_128_2xE_L2_HP\",\n",
    "]\n",
    "\n",
    "model_names = [join_paths([\"../../VAD_models/C2D_AE_models/128/experiments/half_precision/\", mn+\"_MSE_UCSD2\"]) for mn in model_names]    "
   ]
  },
  {
   "cell_type": "markdown",
   "metadata": {},
   "source": [
    "# Training"
   ]
  },
  {
   "cell_type": "code",
   "execution_count": 6,
   "metadata": {},
   "outputs": [],
   "source": [
    "optimizers = [ADAM(m) for m in models]\n",
    "losses = [MSE_LOSS() for m in models]"
   ]
  },
  {
   "cell_type": "code",
   "execution_count": 7,
   "metadata": {},
   "outputs": [
    {
     "name": "stderr",
     "output_type": "stream",
     "text": [
      "16it [00:02,  7.07it/s]\n"
     ]
    }
   ],
   "source": [
    "train_data = UCSD(2)"
   ]
  },
  {
   "cell_type": "code",
   "execution_count": 8,
   "metadata": {},
   "outputs": [],
   "source": [
    "train_loader, val_loader = get_data_loaders(train_data, batch_size=128)"
   ]
  },
  {
   "cell_type": "code",
   "execution_count": 9,
   "metadata": {},
   "outputs": [],
   "source": [
    "trainer = AutoEncoder_Trainer(\n",
    "    models,\n",
    "    model_names,\n",
    "    train_loader, \n",
    "    val_loader,\n",
    "    optimizers,\n",
    "    losses,\n",
    "    epochs = 300,\n",
    ")"
   ]
  },
  {
   "cell_type": "code",
   "execution_count": null,
   "metadata": {},
   "outputs": [
    {
     "name": "stdout",
     "output_type": "stream",
     "text": [
      "Estimated Time 0.21 hours | Will be completed by 2020-11-26 22:17:\n",
      "------------------------------------------------------------\n",
      "Epoch: [001/300] | time/epoch: 2.47 seconds\n",
      "------------------------------------------------------------\n",
      "Model: ../../VAD_models/C2D_AE_models/128/experiments/half_precision/C2D_3x3_128_2xE_L2_HP_MSE_UCSD2/C2D_3x3_128_2xE_L2_HP_MSE_UCSD2.pth.tar\n",
      "                Loss\n",
      "Training    0.028089\n",
      "Validation  0.042650\n",
      "----------------------------------------\n",
      "------------------------------------------------------------\n",
      "Epoch: [002/300] | time/epoch: 2.46 seconds\n",
      "------------------------------------------------------------\n",
      "Model: ../../VAD_models/C2D_AE_models/128/experiments/half_precision/C2D_3x3_128_2xE_L2_HP_MSE_UCSD2/C2D_3x3_128_2xE_L2_HP_MSE_UCSD2.pth.tar\n",
      "                Loss\n",
      "Training    0.009143\n",
      "Validation  0.016948\n",
      "----------------------------------------\n",
      "------------------------------------------------------------\n",
      "Epoch: [003/300] | time/epoch: 2.45 seconds\n",
      "------------------------------------------------------------\n",
      "Model: ../../VAD_models/C2D_AE_models/128/experiments/half_precision/C2D_3x3_128_2xE_L2_HP_MSE_UCSD2/C2D_3x3_128_2xE_L2_HP_MSE_UCSD2.pth.tar\n",
      "             Loss -2   Loss -1    Loss *\n",
      "Training    0.028089  0.009143  0.006069\n",
      "Validation  0.042650  0.016948  0.007167\n",
      "----------------------------------------\n",
      "------------------------------------------------------------\n",
      "Epoch: [004/300] | time/epoch: 2.44 seconds\n",
      "------------------------------------------------------------\n",
      "Model: ../../VAD_models/C2D_AE_models/128/experiments/half_precision/C2D_3x3_128_2xE_L2_HP_MSE_UCSD2/C2D_3x3_128_2xE_L2_HP_MSE_UCSD2.pth.tar\n",
      "             Loss -2   Loss -1    Loss *\n",
      "Training    0.009143  0.006069  0.004821\n",
      "Validation  0.016948  0.007167  0.005360\n",
      "----------------------------------------\n",
      "------------------------------------------------------------\n",
      "Epoch: [005/300] | time/epoch: 2.46 seconds\n",
      "------------------------------------------------------------\n",
      "Model: ../../VAD_models/C2D_AE_models/128/experiments/half_precision/C2D_3x3_128_2xE_L2_HP_MSE_UCSD2/C2D_3x3_128_2xE_L2_HP_MSE_UCSD2.pth.tar\n",
      "             Loss -2   Loss -1    Loss *\n",
      "Training    0.006069  0.004821  0.004134\n",
      "Validation  0.007167  0.005360  0.004403\n",
      "----------------------------------------\n",
      "------------------------------------------------------------\n",
      "Epoch: [006/300] | time/epoch: 2.45 seconds\n",
      "------------------------------------------------------------\n",
      "Model: ../../VAD_models/C2D_AE_models/128/experiments/half_precision/C2D_3x3_128_2xE_L2_HP_MSE_UCSD2/C2D_3x3_128_2xE_L2_HP_MSE_UCSD2.pth.tar\n",
      "             Loss -2   Loss -1    Loss *\n",
      "Training    0.004821  0.004134  0.003667\n",
      "Validation  0.005360  0.004403  0.004266\n",
      "----------------------------------------\n",
      "------------------------------------------------------------\n",
      "Epoch: [007/300] | time/epoch: 2.45 seconds\n",
      "------------------------------------------------------------\n",
      "Model: ../../VAD_models/C2D_AE_models/128/experiments/half_precision/C2D_3x3_128_2xE_L2_HP_MSE_UCSD2/C2D_3x3_128_2xE_L2_HP_MSE_UCSD2.pth.tar\n",
      "             Loss -2   Loss -1    Loss *\n",
      "Training    0.004134  0.003667  0.003282\n",
      "Validation  0.004403  0.004266  0.004450\n",
      "----------------------------------------\n",
      "------------------------------------------------------------\n",
      "Epoch: [008/300] | time/epoch: 2.46 seconds\n",
      "------------------------------------------------------------\n",
      "Model: ../../VAD_models/C2D_AE_models/128/experiments/half_precision/C2D_3x3_128_2xE_L2_HP_MSE_UCSD2/C2D_3x3_128_2xE_L2_HP_MSE_UCSD2.pth.tar\n",
      "             Loss -2   Loss -1    Loss *\n",
      "Training    0.003667  0.003282  0.002952\n",
      "Validation  0.004266  0.004450  0.003584\n",
      "----------------------------------------\n",
      "------------------------------------------------------------\n",
      "Epoch: [009/300] | time/epoch: 2.46 seconds\n",
      "------------------------------------------------------------\n",
      "Model: ../../VAD_models/C2D_AE_models/128/experiments/half_precision/C2D_3x3_128_2xE_L2_HP_MSE_UCSD2/C2D_3x3_128_2xE_L2_HP_MSE_UCSD2.pth.tar\n",
      "             Loss -2   Loss -1    Loss *\n",
      "Training    0.003282  0.002952  0.002657\n",
      "Validation  0.004450  0.003584  0.003496\n",
      "----------------------------------------\n",
      "------------------------------------------------------------\n",
      "Epoch: [010/300] | time/epoch: 2.45 seconds\n",
      "------------------------------------------------------------\n",
      "Model: ../../VAD_models/C2D_AE_models/128/experiments/half_precision/C2D_3x3_128_2xE_L2_HP_MSE_UCSD2/C2D_3x3_128_2xE_L2_HP_MSE_UCSD2.pth.tar\n",
      "             Loss -2   Loss -1    Loss *\n",
      "Training    0.002952  0.002657  0.002419\n",
      "Validation  0.003584  0.003496  0.002809\n",
      "----------------------------------------\n",
      "------------------------------------------------------------\n",
      "Epoch: [011/300] | time/epoch: 2.46 seconds\n",
      "------------------------------------------------------------\n",
      "Model: ../../VAD_models/C2D_AE_models/128/experiments/half_precision/C2D_3x3_128_2xE_L2_HP_MSE_UCSD2/C2D_3x3_128_2xE_L2_HP_MSE_UCSD2.pth.tar\n",
      "             Loss -2   Loss -1    Loss *\n",
      "Training    0.002657  0.002419  0.002218\n",
      "Validation  0.003496  0.002809  0.002432\n",
      "----------------------------------------\n",
      "------------------------------------------------------------\n",
      "Epoch: [012/300] | time/epoch: 2.46 seconds\n",
      "------------------------------------------------------------\n",
      "Model: ../../VAD_models/C2D_AE_models/128/experiments/half_precision/C2D_3x3_128_2xE_L2_HP_MSE_UCSD2/C2D_3x3_128_2xE_L2_HP_MSE_UCSD2.pth.tar\n",
      "             Loss -2   Loss -1    Loss *\n",
      "Training    0.002419  0.002218  0.002022\n",
      "Validation  0.002809  0.002432  0.002542\n",
      "----------------------------------------\n",
      "------------------------------------------------------------\n",
      "Epoch: [013/300] | time/epoch: 2.46 seconds\n",
      "------------------------------------------------------------\n",
      "Model: ../../VAD_models/C2D_AE_models/128/experiments/half_precision/C2D_3x3_128_2xE_L2_HP_MSE_UCSD2/C2D_3x3_128_2xE_L2_HP_MSE_UCSD2.pth.tar\n",
      "             Loss -2   Loss -1    Loss *\n",
      "Training    0.002218  0.002022  0.001854\n",
      "Validation  0.002432  0.002542  0.002725\n",
      "----------------------------------------\n",
      "------------------------------------------------------------\n",
      "Epoch: [014/300] | time/epoch: 2.47 seconds\n",
      "------------------------------------------------------------\n",
      "Model: ../../VAD_models/C2D_AE_models/128/experiments/half_precision/C2D_3x3_128_2xE_L2_HP_MSE_UCSD2/C2D_3x3_128_2xE_L2_HP_MSE_UCSD2.pth.tar\n",
      "             Loss -2   Loss -1    Loss *\n",
      "Training    0.002022  0.001854  0.001719\n",
      "Validation  0.002542  0.002725  0.002424\n",
      "----------------------------------------\n",
      "------------------------------------------------------------\n",
      "Epoch: [015/300] | time/epoch: 2.47 seconds\n",
      "------------------------------------------------------------\n",
      "Model: ../../VAD_models/C2D_AE_models/128/experiments/half_precision/C2D_3x3_128_2xE_L2_HP_MSE_UCSD2/C2D_3x3_128_2xE_L2_HP_MSE_UCSD2.pth.tar\n",
      "             Loss -2   Loss -1    Loss *\n",
      "Training    0.001854  0.001719  0.001600\n",
      "Validation  0.002725  0.002424  0.001997\n",
      "----------------------------------------\n",
      "------------------------------------------------------------\n",
      "Epoch: [016/300] | time/epoch: 2.45 seconds\n",
      "------------------------------------------------------------\n",
      "Model: ../../VAD_models/C2D_AE_models/128/experiments/half_precision/C2D_3x3_128_2xE_L2_HP_MSE_UCSD2/C2D_3x3_128_2xE_L2_HP_MSE_UCSD2.pth.tar\n",
      "             Loss -2   Loss -1    Loss *\n",
      "Training    0.001719  0.001600  0.001490\n",
      "Validation  0.002424  0.001997  0.002394\n",
      "----------------------------------------\n",
      "------------------------------------------------------------\n",
      "Epoch: [017/300] | time/epoch: 2.46 seconds\n",
      "------------------------------------------------------------\n",
      "Model: ../../VAD_models/C2D_AE_models/128/experiments/half_precision/C2D_3x3_128_2xE_L2_HP_MSE_UCSD2/C2D_3x3_128_2xE_L2_HP_MSE_UCSD2.pth.tar\n",
      "             Loss -2   Loss -1    Loss *\n",
      "Training    0.001600  0.001490  0.001438\n",
      "Validation  0.001997  0.002394  0.001992\n",
      "----------------------------------------\n",
      "------------------------------------------------------------\n",
      "Epoch: [018/300] | time/epoch: 2.47 seconds\n",
      "------------------------------------------------------------\n",
      "Model: ../../VAD_models/C2D_AE_models/128/experiments/half_precision/C2D_3x3_128_2xE_L2_HP_MSE_UCSD2/C2D_3x3_128_2xE_L2_HP_MSE_UCSD2.pth.tar\n",
      "             Loss -2   Loss -1    Loss *\n",
      "Training    0.001490  0.001438  0.001360\n",
      "Validation  0.002394  0.001992  0.001976\n",
      "----------------------------------------\n",
      "------------------------------------------------------------\n",
      "Epoch: [019/300] | time/epoch: 2.46 seconds\n",
      "------------------------------------------------------------\n",
      "Model: ../../VAD_models/C2D_AE_models/128/experiments/half_precision/C2D_3x3_128_2xE_L2_HP_MSE_UCSD2/C2D_3x3_128_2xE_L2_HP_MSE_UCSD2.pth.tar\n",
      "             Loss -2   Loss -1    Loss *\n",
      "Training    0.001438  0.001360  0.001287\n",
      "Validation  0.001992  0.001976  0.001970\n",
      "----------------------------------------\n",
      "------------------------------------------------------------\n",
      "Epoch: [020/300] | time/epoch: 2.48 seconds\n",
      "------------------------------------------------------------\n",
      "Model: ../../VAD_models/C2D_AE_models/128/experiments/half_precision/C2D_3x3_128_2xE_L2_HP_MSE_UCSD2/C2D_3x3_128_2xE_L2_HP_MSE_UCSD2.pth.tar\n",
      "             Loss -2   Loss -1    Loss *\n",
      "Training    0.001360  0.001287  0.001244\n",
      "Validation  0.001976  0.001970  0.001799\n",
      "----------------------------------------\n",
      "------------------------------------------------------------\n",
      "Epoch: [021/300] | time/epoch: 2.46 seconds\n",
      "------------------------------------------------------------\n",
      "Model: ../../VAD_models/C2D_AE_models/128/experiments/half_precision/C2D_3x3_128_2xE_L2_HP_MSE_UCSD2/C2D_3x3_128_2xE_L2_HP_MSE_UCSD2.pth.tar\n",
      "             Loss -2   Loss -1    Loss *\n",
      "Training    0.001287  0.001244  0.001213\n",
      "Validation  0.001970  0.001799  0.001635\n",
      "----------------------------------------\n",
      "------------------------------------------------------------\n",
      "Epoch: [022/300] | time/epoch: 2.48 seconds\n",
      "------------------------------------------------------------\n",
      "Model: ../../VAD_models/C2D_AE_models/128/experiments/half_precision/C2D_3x3_128_2xE_L2_HP_MSE_UCSD2/C2D_3x3_128_2xE_L2_HP_MSE_UCSD2.pth.tar\n",
      "             Loss -2   Loss -1    Loss *\n",
      "Training    0.001244  0.001213  0.001174\n",
      "Validation  0.001799  0.001635  0.002028\n",
      "----------------------------------------\n",
      "------------------------------------------------------------\n",
      "Epoch: [023/300] | time/epoch: 2.47 seconds\n",
      "------------------------------------------------------------\n",
      "Model: ../../VAD_models/C2D_AE_models/128/experiments/half_precision/C2D_3x3_128_2xE_L2_HP_MSE_UCSD2/C2D_3x3_128_2xE_L2_HP_MSE_UCSD2.pth.tar\n",
      "             Loss -2   Loss -1    Loss *\n",
      "Training    0.001213  0.001174  0.001122\n",
      "Validation  0.001635  0.002028  0.001958\n",
      "----------------------------------------\n",
      "------------------------------------------------------------\n",
      "Epoch: [024/300] | time/epoch: 2.47 seconds\n",
      "------------------------------------------------------------\n",
      "Model: ../../VAD_models/C2D_AE_models/128/experiments/half_precision/C2D_3x3_128_2xE_L2_HP_MSE_UCSD2/C2D_3x3_128_2xE_L2_HP_MSE_UCSD2.pth.tar\n",
      "             Loss -2   Loss -1    Loss *\n",
      "Training    0.001174  0.001122  0.001088\n",
      "Validation  0.002028  0.001958  0.001762\n",
      "----------------------------------------\n",
      "------------------------------------------------------------\n",
      "Epoch: [025/300] | time/epoch: 2.47 seconds\n",
      "------------------------------------------------------------\n",
      "Model: ../../VAD_models/C2D_AE_models/128/experiments/half_precision/C2D_3x3_128_2xE_L2_HP_MSE_UCSD2/C2D_3x3_128_2xE_L2_HP_MSE_UCSD2.pth.tar\n",
      "             Loss -2   Loss -1    Loss *\n",
      "Training    0.001122  0.001088  0.001064\n",
      "Validation  0.001958  0.001762  0.001668\n",
      "----------------------------------------\n",
      "------------------------------------------------------------\n",
      "Epoch: [026/300] | time/epoch: 2.47 seconds\n",
      "------------------------------------------------------------\n",
      "Model: ../../VAD_models/C2D_AE_models/128/experiments/half_precision/C2D_3x3_128_2xE_L2_HP_MSE_UCSD2/C2D_3x3_128_2xE_L2_HP_MSE_UCSD2.pth.tar\n",
      "             Loss -2   Loss -1    Loss *\n",
      "Training    0.001088  0.001064  0.001058\n",
      "Validation  0.001762  0.001668  0.001531\n",
      "----------------------------------------\n",
      "------------------------------------------------------------\n",
      "Epoch: [027/300] | time/epoch: 2.47 seconds\n",
      "------------------------------------------------------------\n",
      "Model: ../../VAD_models/C2D_AE_models/128/experiments/half_precision/C2D_3x3_128_2xE_L2_HP_MSE_UCSD2/C2D_3x3_128_2xE_L2_HP_MSE_UCSD2.pth.tar\n",
      "             Loss -2   Loss -1    Loss *\n",
      "Training    0.001064  0.001058  0.001044\n",
      "Validation  0.001668  0.001531  0.001561\n",
      "----------------------------------------\n",
      "------------------------------------------------------------\n",
      "Epoch: [028/300] | time/epoch: 2.48 seconds\n",
      "------------------------------------------------------------\n",
      "Model: ../../VAD_models/C2D_AE_models/128/experiments/half_precision/C2D_3x3_128_2xE_L2_HP_MSE_UCSD2/C2D_3x3_128_2xE_L2_HP_MSE_UCSD2.pth.tar\n",
      "             Loss -2   Loss -1    Loss *\n",
      "Training    0.001058  0.001044  0.001026\n",
      "Validation  0.001531  0.001561  0.001536\n",
      "----------------------------------------\n",
      "------------------------------------------------------------\n",
      "Epoch: [029/300] | time/epoch: 2.49 seconds\n",
      "------------------------------------------------------------\n",
      "Model: ../../VAD_models/C2D_AE_models/128/experiments/half_precision/C2D_3x3_128_2xE_L2_HP_MSE_UCSD2/C2D_3x3_128_2xE_L2_HP_MSE_UCSD2.pth.tar\n",
      "             Loss -2   Loss -1    Loss *\n",
      "Training    0.001044  0.001026  0.001014\n",
      "Validation  0.001561  0.001536  0.001507\n",
      "----------------------------------------\n",
      "------------------------------------------------------------\n",
      "Epoch: [030/300] | time/epoch: 2.48 seconds\n",
      "------------------------------------------------------------\n",
      "Model: ../../VAD_models/C2D_AE_models/128/experiments/half_precision/C2D_3x3_128_2xE_L2_HP_MSE_UCSD2/C2D_3x3_128_2xE_L2_HP_MSE_UCSD2.pth.tar\n",
      "             Loss -2   Loss -1    Loss *\n",
      "Training    0.001026  0.001014  0.001001\n",
      "Validation  0.001536  0.001507  0.001491\n",
      "----------------------------------------\n",
      "------------------------------------------------------------\n",
      "Epoch: [031/300] | time/epoch: 2.47 seconds\n",
      "------------------------------------------------------------\n",
      "Model: ../../VAD_models/C2D_AE_models/128/experiments/half_precision/C2D_3x3_128_2xE_L2_HP_MSE_UCSD2/C2D_3x3_128_2xE_L2_HP_MSE_UCSD2.pth.tar\n",
      "             Loss -2   Loss -1    Loss *\n",
      "Training    0.001014  0.001001  0.000975\n",
      "Validation  0.001507  0.001491  0.001356\n",
      "----------------------------------------\n",
      "------------------------------------------------------------\n",
      "Epoch: [032/300] | time/epoch: 2.48 seconds\n",
      "------------------------------------------------------------\n",
      "Model: ../../VAD_models/C2D_AE_models/128/experiments/half_precision/C2D_3x3_128_2xE_L2_HP_MSE_UCSD2/C2D_3x3_128_2xE_L2_HP_MSE_UCSD2.pth.tar\n",
      "             Loss -2   Loss -1    Loss *\n",
      "Training    0.001001  0.000975  0.000970\n",
      "Validation  0.001491  0.001356  0.001296\n",
      "----------------------------------------\n",
      "------------------------------------------------------------\n",
      "Epoch: [033/300] | time/epoch: 2.49 seconds\n",
      "------------------------------------------------------------\n",
      "Model: ../../VAD_models/C2D_AE_models/128/experiments/half_precision/C2D_3x3_128_2xE_L2_HP_MSE_UCSD2/C2D_3x3_128_2xE_L2_HP_MSE_UCSD2.pth.tar\n",
      "             Loss -2   Loss -1    Loss *\n",
      "Training    0.000975  0.000970  0.000978\n",
      "Validation  0.001356  0.001296  0.001243\n",
      "----------------------------------------\n",
      "------------------------------------------------------------\n",
      "Epoch: [034/300] | time/epoch: 2.49 seconds\n",
      "------------------------------------------------------------\n",
      "Model: ../../VAD_models/C2D_AE_models/128/experiments/half_precision/C2D_3x3_128_2xE_L2_HP_MSE_UCSD2/C2D_3x3_128_2xE_L2_HP_MSE_UCSD2.pth.tar\n",
      "             Loss -2   Loss -1    Loss *\n",
      "Training    0.000970  0.000978  0.000971\n",
      "Validation  0.001296  0.001243  0.001607\n",
      "----------------------------------------\n",
      "------------------------------------------------------------\n",
      "Epoch: [035/300] | time/epoch: 2.49 seconds\n",
      "------------------------------------------------------------\n",
      "Model: ../../VAD_models/C2D_AE_models/128/experiments/half_precision/C2D_3x3_128_2xE_L2_HP_MSE_UCSD2/C2D_3x3_128_2xE_L2_HP_MSE_UCSD2.pth.tar\n",
      "             Loss -2   Loss -1    Loss *\n",
      "Training    0.000978  0.000971  0.000956\n",
      "Validation  0.001243  0.001607  0.001216\n",
      "----------------------------------------\n",
      "------------------------------------------------------------\n",
      "Epoch: [036/300] | time/epoch: 2.48 seconds\n",
      "------------------------------------------------------------\n",
      "Model: ../../VAD_models/C2D_AE_models/128/experiments/half_precision/C2D_3x3_128_2xE_L2_HP_MSE_UCSD2/C2D_3x3_128_2xE_L2_HP_MSE_UCSD2.pth.tar\n",
      "             Loss -2   Loss -1    Loss *\n",
      "Training    0.000971  0.000956  0.000937\n",
      "Validation  0.001607  0.001216  0.001244\n",
      "----------------------------------------\n",
      "------------------------------------------------------------\n",
      "Epoch: [037/300] | time/epoch: 2.49 seconds\n",
      "------------------------------------------------------------\n",
      "Model: ../../VAD_models/C2D_AE_models/128/experiments/half_precision/C2D_3x3_128_2xE_L2_HP_MSE_UCSD2/C2D_3x3_128_2xE_L2_HP_MSE_UCSD2.pth.tar\n",
      "             Loss -2   Loss -1    Loss *\n",
      "Training    0.000956  0.000937  0.000925\n",
      "Validation  0.001216  0.001244  0.001317\n",
      "----------------------------------------\n",
      "------------------------------------------------------------\n",
      "Epoch: [038/300] | time/epoch: 2.49 seconds\n",
      "------------------------------------------------------------\n",
      "Model: ../../VAD_models/C2D_AE_models/128/experiments/half_precision/C2D_3x3_128_2xE_L2_HP_MSE_UCSD2/C2D_3x3_128_2xE_L2_HP_MSE_UCSD2.pth.tar\n",
      "             Loss -2   Loss -1    Loss *\n",
      "Training    0.000937  0.000925  0.000906\n",
      "Validation  0.001244  0.001317  0.001272\n",
      "----------------------------------------\n",
      "------------------------------------------------------------\n",
      "Epoch: [039/300] | time/epoch: 2.48 seconds\n",
      "------------------------------------------------------------\n",
      "Model: ../../VAD_models/C2D_AE_models/128/experiments/half_precision/C2D_3x3_128_2xE_L2_HP_MSE_UCSD2/C2D_3x3_128_2xE_L2_HP_MSE_UCSD2.pth.tar\n",
      "             Loss -2   Loss -1    Loss *\n",
      "Training    0.000925  0.000906  0.000911\n",
      "Validation  0.001317  0.001272  0.001186\n",
      "----------------------------------------\n",
      "------------------------------------------------------------\n",
      "Epoch: [040/300] | time/epoch: 2.49 seconds\n",
      "------------------------------------------------------------\n",
      "Model: ../../VAD_models/C2D_AE_models/128/experiments/half_precision/C2D_3x3_128_2xE_L2_HP_MSE_UCSD2/C2D_3x3_128_2xE_L2_HP_MSE_UCSD2.pth.tar\n",
      "             Loss -2   Loss -1    Loss *\n",
      "Training    0.000906  0.000911  0.000911\n",
      "Validation  0.001272  0.001186  0.001198\n",
      "----------------------------------------\n",
      "------------------------------------------------------------\n",
      "Epoch: [041/300] | time/epoch: 2.48 seconds\n",
      "------------------------------------------------------------\n",
      "Model: ../../VAD_models/C2D_AE_models/128/experiments/half_precision/C2D_3x3_128_2xE_L2_HP_MSE_UCSD2/C2D_3x3_128_2xE_L2_HP_MSE_UCSD2.pth.tar\n",
      "             Loss -2   Loss -1    Loss *\n",
      "Training    0.000911  0.000911  0.000897\n",
      "Validation  0.001186  0.001198  0.001041\n",
      "----------------------------------------\n",
      "------------------------------------------------------------\n",
      "Epoch: [042/300] | time/epoch: 2.48 seconds\n",
      "------------------------------------------------------------\n",
      "Model: ../../VAD_models/C2D_AE_models/128/experiments/half_precision/C2D_3x3_128_2xE_L2_HP_MSE_UCSD2/C2D_3x3_128_2xE_L2_HP_MSE_UCSD2.pth.tar\n",
      "             Loss -2   Loss -1    Loss *\n",
      "Training    0.000911  0.000897  0.000894\n",
      "Validation  0.001198  0.001041  0.001264\n",
      "----------------------------------------\n",
      "------------------------------------------------------------\n",
      "Epoch: [043/300] | time/epoch: 2.47 seconds\n",
      "------------------------------------------------------------\n",
      "Model: ../../VAD_models/C2D_AE_models/128/experiments/half_precision/C2D_3x3_128_2xE_L2_HP_MSE_UCSD2/C2D_3x3_128_2xE_L2_HP_MSE_UCSD2.pth.tar\n",
      "             Loss -2   Loss -1    Loss *\n",
      "Training    0.000897  0.000894  0.000884\n",
      "Validation  0.001041  0.001264  0.001085\n",
      "----------------------------------------\n",
      "------------------------------------------------------------\n",
      "Epoch: [044/300] | time/epoch: 2.50 seconds\n",
      "------------------------------------------------------------\n",
      "Model: ../../VAD_models/C2D_AE_models/128/experiments/half_precision/C2D_3x3_128_2xE_L2_HP_MSE_UCSD2/C2D_3x3_128_2xE_L2_HP_MSE_UCSD2.pth.tar\n",
      "             Loss -2   Loss -1    Loss *\n",
      "Training    0.000894  0.000884  0.000885\n",
      "Validation  0.001264  0.001085  0.001105\n",
      "----------------------------------------\n",
      "------------------------------------------------------------\n",
      "Epoch: [045/300] | time/epoch: 2.48 seconds\n",
      "------------------------------------------------------------\n",
      "Model: ../../VAD_models/C2D_AE_models/128/experiments/half_precision/C2D_3x3_128_2xE_L2_HP_MSE_UCSD2/C2D_3x3_128_2xE_L2_HP_MSE_UCSD2.pth.tar\n",
      "             Loss -2   Loss -1    Loss *\n",
      "Training    0.000884  0.000885  0.000888\n",
      "Validation  0.001085  0.001105  0.001086\n",
      "----------------------------------------\n",
      "------------------------------------------------------------\n",
      "Epoch: [046/300] | time/epoch: 2.49 seconds\n",
      "------------------------------------------------------------\n",
      "Model: ../../VAD_models/C2D_AE_models/128/experiments/half_precision/C2D_3x3_128_2xE_L2_HP_MSE_UCSD2/C2D_3x3_128_2xE_L2_HP_MSE_UCSD2.pth.tar\n",
      "             Loss -2   Loss -1    Loss *\n",
      "Training    0.000885  0.000888  0.000880\n",
      "Validation  0.001105  0.001086  0.001065\n",
      "----------------------------------------\n",
      "------------------------------------------------------------\n",
      "Epoch: [047/300] | time/epoch: 2.48 seconds\n",
      "------------------------------------------------------------\n",
      "Model: ../../VAD_models/C2D_AE_models/128/experiments/half_precision/C2D_3x3_128_2xE_L2_HP_MSE_UCSD2/C2D_3x3_128_2xE_L2_HP_MSE_UCSD2.pth.tar\n",
      "             Loss -2   Loss -1    Loss *\n",
      "Training    0.000888  0.000880  0.000873\n",
      "Validation  0.001086  0.001065  0.001107\n",
      "----------------------------------------\n",
      "------------------------------------------------------------\n",
      "Epoch: [048/300] | time/epoch: 2.48 seconds\n",
      "------------------------------------------------------------\n",
      "Model: ../../VAD_models/C2D_AE_models/128/experiments/half_precision/C2D_3x3_128_2xE_L2_HP_MSE_UCSD2/C2D_3x3_128_2xE_L2_HP_MSE_UCSD2.pth.tar\n",
      "             Loss -2   Loss -1    Loss *\n",
      "Training    0.000880  0.000873  0.000865\n",
      "Validation  0.001065  0.001107  0.001247\n",
      "----------------------------------------\n",
      "------------------------------------------------------------\n",
      "Epoch: [049/300] | time/epoch: 2.48 seconds\n",
      "------------------------------------------------------------\n",
      "Model: ../../VAD_models/C2D_AE_models/128/experiments/half_precision/C2D_3x3_128_2xE_L2_HP_MSE_UCSD2/C2D_3x3_128_2xE_L2_HP_MSE_UCSD2.pth.tar\n",
      "             Loss -2   Loss -1    Loss *\n",
      "Training    0.000873  0.000865  0.000847\n",
      "Validation  0.001107  0.001247  0.001161\n",
      "----------------------------------------\n",
      "------------------------------------------------------------\n",
      "Epoch: [050/300] | time/epoch: 2.48 seconds\n",
      "------------------------------------------------------------\n",
      "Model: ../../VAD_models/C2D_AE_models/128/experiments/half_precision/C2D_3x3_128_2xE_L2_HP_MSE_UCSD2/C2D_3x3_128_2xE_L2_HP_MSE_UCSD2.pth.tar\n",
      "             Loss -2   Loss -1    Loss *\n",
      "Training    0.000865  0.000847  0.000838\n",
      "Validation  0.001247  0.001161  0.001112\n",
      "----------------------------------------\n",
      "------------------------------------------------------------\n",
      "Epoch: [051/300] | time/epoch: 2.51 seconds\n",
      "------------------------------------------------------------\n",
      "Model: ../../VAD_models/C2D_AE_models/128/experiments/half_precision/C2D_3x3_128_2xE_L2_HP_MSE_UCSD2/C2D_3x3_128_2xE_L2_HP_MSE_UCSD2.pth.tar\n",
      "             Loss -2   Loss -1    Loss *\n",
      "Training    0.000847  0.000838  0.000837\n",
      "Validation  0.001161  0.001112  0.000924\n",
      "----------------------------------------\n",
      "------------------------------------------------------------\n",
      "Epoch: [052/300] | time/epoch: 2.49 seconds\n",
      "------------------------------------------------------------\n",
      "Model: ../../VAD_models/C2D_AE_models/128/experiments/half_precision/C2D_3x3_128_2xE_L2_HP_MSE_UCSD2/C2D_3x3_128_2xE_L2_HP_MSE_UCSD2.pth.tar\n",
      "             Loss -2   Loss -1    Loss *\n",
      "Training    0.000838  0.000837  0.000828\n",
      "Validation  0.001112  0.000924  0.001066\n",
      "----------------------------------------\n",
      "------------------------------------------------------------\n",
      "Epoch: [053/300] | time/epoch: 2.50 seconds\n",
      "------------------------------------------------------------\n",
      "Model: ../../VAD_models/C2D_AE_models/128/experiments/half_precision/C2D_3x3_128_2xE_L2_HP_MSE_UCSD2/C2D_3x3_128_2xE_L2_HP_MSE_UCSD2.pth.tar\n",
      "             Loss -2   Loss -1    Loss *\n",
      "Training    0.000837  0.000828  0.000829\n",
      "Validation  0.000924  0.001066  0.001259\n",
      "----------------------------------------\n",
      "------------------------------------------------------------\n",
      "Epoch: [054/300] | time/epoch: 2.49 seconds\n",
      "------------------------------------------------------------\n",
      "Model: ../../VAD_models/C2D_AE_models/128/experiments/half_precision/C2D_3x3_128_2xE_L2_HP_MSE_UCSD2/C2D_3x3_128_2xE_L2_HP_MSE_UCSD2.pth.tar\n",
      "             Loss -2   Loss -1    Loss *\n",
      "Training    0.000828  0.000829  0.000837\n",
      "Validation  0.001066  0.001259  0.000915\n",
      "----------------------------------------\n",
      "------------------------------------------------------------\n",
      "Epoch: [055/300] | time/epoch: 2.49 seconds\n",
      "------------------------------------------------------------\n",
      "Model: ../../VAD_models/C2D_AE_models/128/experiments/half_precision/C2D_3x3_128_2xE_L2_HP_MSE_UCSD2/C2D_3x3_128_2xE_L2_HP_MSE_UCSD2.pth.tar\n",
      "             Loss -2   Loss -1    Loss *\n",
      "Training    0.000829  0.000837  0.000830\n",
      "Validation  0.001259  0.000915  0.000941\n",
      "----------------------------------------\n",
      "------------------------------------------------------------\n",
      "Epoch: [056/300] | time/epoch: 2.48 seconds\n",
      "------------------------------------------------------------\n",
      "Model: ../../VAD_models/C2D_AE_models/128/experiments/half_precision/C2D_3x3_128_2xE_L2_HP_MSE_UCSD2/C2D_3x3_128_2xE_L2_HP_MSE_UCSD2.pth.tar\n",
      "             Loss -2   Loss -1    Loss *\n",
      "Training    0.000837  0.000830  0.000831\n",
      "Validation  0.000915  0.000941  0.001087\n",
      "----------------------------------------\n",
      "------------------------------------------------------------\n",
      "Epoch: [057/300] | time/epoch: 2.49 seconds\n",
      "------------------------------------------------------------\n",
      "Model: ../../VAD_models/C2D_AE_models/128/experiments/half_precision/C2D_3x3_128_2xE_L2_HP_MSE_UCSD2/C2D_3x3_128_2xE_L2_HP_MSE_UCSD2.pth.tar\n",
      "             Loss -2   Loss -1    Loss *\n",
      "Training    0.000830  0.000831  0.000827\n",
      "Validation  0.000941  0.001087  0.001036\n",
      "----------------------------------------\n",
      "------------------------------------------------------------\n",
      "Epoch: [058/300] | time/epoch: 2.48 seconds\n",
      "------------------------------------------------------------\n",
      "Model: ../../VAD_models/C2D_AE_models/128/experiments/half_precision/C2D_3x3_128_2xE_L2_HP_MSE_UCSD2/C2D_3x3_128_2xE_L2_HP_MSE_UCSD2.pth.tar\n",
      "             Loss -2   Loss -1    Loss *\n",
      "Training    0.000831  0.000827  0.000827\n",
      "Validation  0.001087  0.001036  0.000941\n",
      "----------------------------------------\n",
      "------------------------------------------------------------\n",
      "Epoch: [059/300] | time/epoch: 2.49 seconds\n",
      "------------------------------------------------------------\n",
      "Model: ../../VAD_models/C2D_AE_models/128/experiments/half_precision/C2D_3x3_128_2xE_L2_HP_MSE_UCSD2/C2D_3x3_128_2xE_L2_HP_MSE_UCSD2.pth.tar\n",
      "             Loss -2   Loss -1    Loss *\n",
      "Training    0.000827  0.000827  0.000823\n",
      "Validation  0.001036  0.000941  0.001156\n",
      "----------------------------------------\n",
      "------------------------------------------------------------\n",
      "Epoch: [060/300] | time/epoch: 2.50 seconds\n",
      "------------------------------------------------------------\n",
      "Model: ../../VAD_models/C2D_AE_models/128/experiments/half_precision/C2D_3x3_128_2xE_L2_HP_MSE_UCSD2/C2D_3x3_128_2xE_L2_HP_MSE_UCSD2.pth.tar\n",
      "             Loss -2   Loss -1    Loss *\n",
      "Training    0.000827  0.000823  0.000821\n",
      "Validation  0.000941  0.001156  0.000921\n",
      "----------------------------------------\n",
      "------------------------------------------------------------\n",
      "Epoch: [061/300] | time/epoch: 2.48 seconds\n",
      "------------------------------------------------------------\n",
      "Model: ../../VAD_models/C2D_AE_models/128/experiments/half_precision/C2D_3x3_128_2xE_L2_HP_MSE_UCSD2/C2D_3x3_128_2xE_L2_HP_MSE_UCSD2.pth.tar\n",
      "             Loss -2   Loss -1    Loss *\n",
      "Training    0.000823  0.000821  0.000807\n",
      "Validation  0.001156  0.000921  0.000963\n",
      "----------------------------------------\n",
      "------------------------------------------------------------\n",
      "Epoch: [062/300] | time/epoch: 2.49 seconds\n",
      "------------------------------------------------------------\n",
      "Model: ../../VAD_models/C2D_AE_models/128/experiments/half_precision/C2D_3x3_128_2xE_L2_HP_MSE_UCSD2/C2D_3x3_128_2xE_L2_HP_MSE_UCSD2.pth.tar\n",
      "             Loss -2   Loss -1    Loss *\n",
      "Training    0.000821  0.000807  0.000790\n",
      "Validation  0.000921  0.000963  0.000942\n",
      "----------------------------------------\n",
      "------------------------------------------------------------\n",
      "Epoch: [063/300] | time/epoch: 2.49 seconds\n",
      "------------------------------------------------------------\n",
      "Model: ../../VAD_models/C2D_AE_models/128/experiments/half_precision/C2D_3x3_128_2xE_L2_HP_MSE_UCSD2/C2D_3x3_128_2xE_L2_HP_MSE_UCSD2.pth.tar\n",
      "             Loss -2   Loss -1    Loss *\n",
      "Training    0.000807  0.000790  0.000779\n",
      "Validation  0.000963  0.000942  0.000961\n",
      "----------------------------------------\n",
      "------------------------------------------------------------\n",
      "Epoch: [064/300] | time/epoch: 2.50 seconds\n",
      "------------------------------------------------------------\n",
      "Model: ../../VAD_models/C2D_AE_models/128/experiments/half_precision/C2D_3x3_128_2xE_L2_HP_MSE_UCSD2/C2D_3x3_128_2xE_L2_HP_MSE_UCSD2.pth.tar\n",
      "             Loss -2   Loss -1    Loss *\n",
      "Training    0.000790  0.000779  0.000777\n",
      "Validation  0.000942  0.000961  0.001023\n",
      "----------------------------------------\n",
      "------------------------------------------------------------\n",
      "Epoch: [065/300] | time/epoch: 2.49 seconds\n",
      "------------------------------------------------------------\n",
      "Model: ../../VAD_models/C2D_AE_models/128/experiments/half_precision/C2D_3x3_128_2xE_L2_HP_MSE_UCSD2/C2D_3x3_128_2xE_L2_HP_MSE_UCSD2.pth.tar\n",
      "             Loss -2   Loss -1    Loss *\n",
      "Training    0.000779  0.000777  0.000781\n",
      "Validation  0.000961  0.001023  0.001064\n",
      "----------------------------------------\n",
      "------------------------------------------------------------\n",
      "Epoch: [066/300] | time/epoch: 2.51 seconds\n",
      "------------------------------------------------------------\n",
      "Model: ../../VAD_models/C2D_AE_models/128/experiments/half_precision/C2D_3x3_128_2xE_L2_HP_MSE_UCSD2/C2D_3x3_128_2xE_L2_HP_MSE_UCSD2.pth.tar\n",
      "             Loss -2   Loss -1    Loss *\n",
      "Training    0.000777  0.000781  0.000794\n",
      "Validation  0.001023  0.001064  0.000868\n",
      "----------------------------------------\n",
      "------------------------------------------------------------\n",
      "Epoch: [067/300] | time/epoch: 2.50 seconds\n",
      "------------------------------------------------------------\n",
      "Model: ../../VAD_models/C2D_AE_models/128/experiments/half_precision/C2D_3x3_128_2xE_L2_HP_MSE_UCSD2/C2D_3x3_128_2xE_L2_HP_MSE_UCSD2.pth.tar\n",
      "             Loss -2   Loss -1    Loss *\n",
      "Training    0.000781  0.000794  0.000796\n",
      "Validation  0.001064  0.000868  0.000842\n",
      "----------------------------------------\n",
      "------------------------------------------------------------\n",
      "Epoch: [068/300] | time/epoch: 2.50 seconds\n",
      "------------------------------------------------------------\n",
      "Model: ../../VAD_models/C2D_AE_models/128/experiments/half_precision/C2D_3x3_128_2xE_L2_HP_MSE_UCSD2/C2D_3x3_128_2xE_L2_HP_MSE_UCSD2.pth.tar\n",
      "             Loss -2   Loss -1    Loss *\n",
      "Training    0.000794  0.000796  0.000801\n",
      "Validation  0.000868  0.000842  0.000944\n",
      "----------------------------------------\n",
      "------------------------------------------------------------\n",
      "Epoch: [069/300] | time/epoch: 2.48 seconds\n",
      "------------------------------------------------------------\n",
      "Model: ../../VAD_models/C2D_AE_models/128/experiments/half_precision/C2D_3x3_128_2xE_L2_HP_MSE_UCSD2/C2D_3x3_128_2xE_L2_HP_MSE_UCSD2.pth.tar\n",
      "             Loss -2   Loss -1    Loss *\n",
      "Training    0.000796  0.000801  0.000788\n",
      "Validation  0.000842  0.000944  0.000865\n",
      "----------------------------------------\n",
      "------------------------------------------------------------\n",
      "Epoch: [070/300] | time/epoch: 2.49 seconds\n",
      "------------------------------------------------------------\n",
      "Model: ../../VAD_models/C2D_AE_models/128/experiments/half_precision/C2D_3x3_128_2xE_L2_HP_MSE_UCSD2/C2D_3x3_128_2xE_L2_HP_MSE_UCSD2.pth.tar\n",
      "             Loss -2   Loss -1    Loss *\n",
      "Training    0.000801  0.000788  0.000777\n",
      "Validation  0.000944  0.000865  0.000887\n",
      "----------------------------------------\n",
      "------------------------------------------------------------\n",
      "Epoch: [071/300] | time/epoch: 2.51 seconds\n",
      "------------------------------------------------------------\n",
      "Model: ../../VAD_models/C2D_AE_models/128/experiments/half_precision/C2D_3x3_128_2xE_L2_HP_MSE_UCSD2/C2D_3x3_128_2xE_L2_HP_MSE_UCSD2.pth.tar\n",
      "             Loss -2   Loss -1    Loss *\n",
      "Training    0.000788  0.000777  0.000779\n",
      "Validation  0.000865  0.000887  0.000898\n",
      "----------------------------------------\n",
      "------------------------------------------------------------\n",
      "Epoch: [072/300] | time/epoch: 2.48 seconds\n",
      "------------------------------------------------------------\n",
      "Model: ../../VAD_models/C2D_AE_models/128/experiments/half_precision/C2D_3x3_128_2xE_L2_HP_MSE_UCSD2/C2D_3x3_128_2xE_L2_HP_MSE_UCSD2.pth.tar\n",
      "             Loss -2   Loss -1    Loss *\n",
      "Training    0.000777  0.000779  0.000785\n",
      "Validation  0.000887  0.000898  0.000915\n",
      "----------------------------------------\n",
      "------------------------------------------------------------\n",
      "Epoch: [073/300] | time/epoch: 2.49 seconds\n",
      "------------------------------------------------------------\n",
      "Model: ../../VAD_models/C2D_AE_models/128/experiments/half_precision/C2D_3x3_128_2xE_L2_HP_MSE_UCSD2/C2D_3x3_128_2xE_L2_HP_MSE_UCSD2.pth.tar\n",
      "             Loss -2   Loss -1    Loss *\n",
      "Training    0.000779  0.000785  0.000778\n",
      "Validation  0.000898  0.000915  0.000852\n",
      "----------------------------------------\n",
      "------------------------------------------------------------\n",
      "Epoch: [074/300] | time/epoch: 2.52 seconds\n",
      "------------------------------------------------------------\n",
      "Model: ../../VAD_models/C2D_AE_models/128/experiments/half_precision/C2D_3x3_128_2xE_L2_HP_MSE_UCSD2/C2D_3x3_128_2xE_L2_HP_MSE_UCSD2.pth.tar\n",
      "             Loss -2   Loss -1    Loss *\n",
      "Training    0.000785  0.000778  0.000765\n",
      "Validation  0.000915  0.000852  0.000928\n",
      "----------------------------------------\n",
      "------------------------------------------------------------\n",
      "Epoch: [075/300] | time/epoch: 2.50 seconds\n",
      "------------------------------------------------------------\n",
      "Model: ../../VAD_models/C2D_AE_models/128/experiments/half_precision/C2D_3x3_128_2xE_L2_HP_MSE_UCSD2/C2D_3x3_128_2xE_L2_HP_MSE_UCSD2.pth.tar\n",
      "             Loss -2   Loss -1    Loss *\n",
      "Training    0.000778  0.000765  0.000758\n",
      "Validation  0.000852  0.000928  0.000906\n",
      "----------------------------------------\n",
      "------------------------------------------------------------\n",
      "Epoch: [076/300] | time/epoch: 2.49 seconds\n",
      "------------------------------------------------------------\n",
      "Model: ../../VAD_models/C2D_AE_models/128/experiments/half_precision/C2D_3x3_128_2xE_L2_HP_MSE_UCSD2/C2D_3x3_128_2xE_L2_HP_MSE_UCSD2.pth.tar\n",
      "             Loss -2   Loss -1    Loss *\n",
      "Training    0.000765  0.000758  0.000761\n",
      "Validation  0.000928  0.000906  0.000955\n",
      "----------------------------------------\n",
      "------------------------------------------------------------\n",
      "Epoch: [077/300] | time/epoch: 2.50 seconds\n",
      "------------------------------------------------------------\n",
      "Model: ../../VAD_models/C2D_AE_models/128/experiments/half_precision/C2D_3x3_128_2xE_L2_HP_MSE_UCSD2/C2D_3x3_128_2xE_L2_HP_MSE_UCSD2.pth.tar\n",
      "             Loss -2   Loss -1    Loss *\n",
      "Training    0.000758  0.000761  0.000761\n",
      "Validation  0.000906  0.000955  0.000931\n",
      "----------------------------------------\n",
      "------------------------------------------------------------\n",
      "Epoch: [078/300] | time/epoch: 2.50 seconds\n",
      "------------------------------------------------------------\n",
      "Model: ../../VAD_models/C2D_AE_models/128/experiments/half_precision/C2D_3x3_128_2xE_L2_HP_MSE_UCSD2/C2D_3x3_128_2xE_L2_HP_MSE_UCSD2.pth.tar\n",
      "             Loss -2   Loss -1    Loss *\n",
      "Training    0.000761  0.000761  0.000767\n",
      "Validation  0.000955  0.000931  0.000889\n",
      "----------------------------------------\n",
      "------------------------------------------------------------\n",
      "Epoch: [079/300] | time/epoch: 2.50 seconds\n",
      "------------------------------------------------------------\n",
      "Model: ../../VAD_models/C2D_AE_models/128/experiments/half_precision/C2D_3x3_128_2xE_L2_HP_MSE_UCSD2/C2D_3x3_128_2xE_L2_HP_MSE_UCSD2.pth.tar\n",
      "             Loss -2   Loss -1    Loss *\n",
      "Training    0.000761  0.000767  0.000761\n",
      "Validation  0.000931  0.000889  0.000970\n",
      "----------------------------------------\n",
      "------------------------------------------------------------\n",
      "Epoch: [080/300] | time/epoch: 2.50 seconds\n",
      "------------------------------------------------------------\n",
      "Model: ../../VAD_models/C2D_AE_models/128/experiments/half_precision/C2D_3x3_128_2xE_L2_HP_MSE_UCSD2/C2D_3x3_128_2xE_L2_HP_MSE_UCSD2.pth.tar\n",
      "             Loss -2   Loss -1    Loss *\n",
      "Training    0.000767  0.000761  0.000753\n",
      "Validation  0.000889  0.000970  0.000855\n",
      "----------------------------------------\n",
      "------------------------------------------------------------\n",
      "Epoch: [081/300] | time/epoch: 2.50 seconds\n",
      "------------------------------------------------------------\n",
      "Model: ../../VAD_models/C2D_AE_models/128/experiments/half_precision/C2D_3x3_128_2xE_L2_HP_MSE_UCSD2/C2D_3x3_128_2xE_L2_HP_MSE_UCSD2.pth.tar\n",
      "             Loss -2   Loss -1    Loss *\n",
      "Training    0.000761  0.000753  0.000748\n",
      "Validation  0.000970  0.000855  0.000902\n",
      "----------------------------------------\n",
      "------------------------------------------------------------\n",
      "Epoch: [082/300] | time/epoch: 2.49 seconds\n",
      "------------------------------------------------------------\n",
      "Model: ../../VAD_models/C2D_AE_models/128/experiments/half_precision/C2D_3x3_128_2xE_L2_HP_MSE_UCSD2/C2D_3x3_128_2xE_L2_HP_MSE_UCSD2.pth.tar\n",
      "             Loss -2   Loss -1    Loss *\n",
      "Training    0.000753  0.000748  0.000738\n",
      "Validation  0.000855  0.000902  0.000883\n",
      "----------------------------------------\n",
      "------------------------------------------------------------\n",
      "Epoch: [083/300] | time/epoch: 2.47 seconds\n",
      "------------------------------------------------------------\n",
      "Model: ../../VAD_models/C2D_AE_models/128/experiments/half_precision/C2D_3x3_128_2xE_L2_HP_MSE_UCSD2/C2D_3x3_128_2xE_L2_HP_MSE_UCSD2.pth.tar\n",
      "             Loss -2   Loss -1    Loss *\n",
      "Training    0.000748  0.000738  0.000732\n",
      "Validation  0.000902  0.000883  0.000869\n",
      "----------------------------------------\n",
      "------------------------------------------------------------\n",
      "Epoch: [084/300] | time/epoch: 2.51 seconds\n",
      "------------------------------------------------------------\n",
      "Model: ../../VAD_models/C2D_AE_models/128/experiments/half_precision/C2D_3x3_128_2xE_L2_HP_MSE_UCSD2/C2D_3x3_128_2xE_L2_HP_MSE_UCSD2.pth.tar\n",
      "             Loss -2   Loss -1    Loss *\n",
      "Training    0.000738  0.000732  0.000738\n",
      "Validation  0.000883  0.000869  0.000823\n",
      "----------------------------------------\n",
      "------------------------------------------------------------\n",
      "Epoch: [085/300] | time/epoch: 2.51 seconds\n",
      "------------------------------------------------------------\n",
      "Model: ../../VAD_models/C2D_AE_models/128/experiments/half_precision/C2D_3x3_128_2xE_L2_HP_MSE_UCSD2/C2D_3x3_128_2xE_L2_HP_MSE_UCSD2.pth.tar\n",
      "             Loss -2   Loss -1    Loss *\n",
      "Training    0.000732  0.000738  0.000747\n",
      "Validation  0.000869  0.000823  0.001070\n",
      "----------------------------------------\n",
      "------------------------------------------------------------\n",
      "Epoch: [086/300] | time/epoch: 2.51 seconds\n",
      "------------------------------------------------------------\n",
      "Model: ../../VAD_models/C2D_AE_models/128/experiments/half_precision/C2D_3x3_128_2xE_L2_HP_MSE_UCSD2/C2D_3x3_128_2xE_L2_HP_MSE_UCSD2.pth.tar\n",
      "             Loss -2   Loss -1    Loss *\n",
      "Training    0.000738  0.000747  0.000747\n",
      "Validation  0.000823  0.001070  0.000875\n",
      "----------------------------------------\n",
      "------------------------------------------------------------\n",
      "Epoch: [087/300] | time/epoch: 2.49 seconds\n",
      "------------------------------------------------------------\n",
      "Model: ../../VAD_models/C2D_AE_models/128/experiments/half_precision/C2D_3x3_128_2xE_L2_HP_MSE_UCSD2/C2D_3x3_128_2xE_L2_HP_MSE_UCSD2.pth.tar\n",
      "             Loss -2   Loss -1    Loss *\n",
      "Training    0.000747  0.000747  0.000750\n",
      "Validation  0.001070  0.000875  0.001105\n",
      "----------------------------------------\n",
      "------------------------------------------------------------\n",
      "Epoch: [088/300] | time/epoch: 2.52 seconds\n",
      "------------------------------------------------------------\n",
      "Model: ../../VAD_models/C2D_AE_models/128/experiments/half_precision/C2D_3x3_128_2xE_L2_HP_MSE_UCSD2/C2D_3x3_128_2xE_L2_HP_MSE_UCSD2.pth.tar\n",
      "             Loss -2   Loss -1    Loss *\n",
      "Training    0.000747  0.000750  0.000751\n",
      "Validation  0.000875  0.001105  0.000805\n",
      "----------------------------------------\n",
      "------------------------------------------------------------\n",
      "Epoch: [089/300] | time/epoch: 2.49 seconds\n",
      "------------------------------------------------------------\n",
      "Model: ../../VAD_models/C2D_AE_models/128/experiments/half_precision/C2D_3x3_128_2xE_L2_HP_MSE_UCSD2/C2D_3x3_128_2xE_L2_HP_MSE_UCSD2.pth.tar\n",
      "             Loss -2   Loss -1    Loss *\n",
      "Training    0.000750  0.000751  0.000739\n",
      "Validation  0.001105  0.000805  0.000919\n",
      "----------------------------------------\n",
      "------------------------------------------------------------\n",
      "Epoch: [090/300] | time/epoch: 2.51 seconds\n",
      "------------------------------------------------------------\n",
      "Model: ../../VAD_models/C2D_AE_models/128/experiments/half_precision/C2D_3x3_128_2xE_L2_HP_MSE_UCSD2/C2D_3x3_128_2xE_L2_HP_MSE_UCSD2.pth.tar\n",
      "             Loss -2   Loss -1    Loss *\n",
      "Training    0.000751  0.000739  0.000736\n",
      "Validation  0.000805  0.000919  0.000820\n",
      "----------------------------------------\n",
      "------------------------------------------------------------\n",
      "Epoch: [091/300] | time/epoch: 2.48 seconds\n",
      "------------------------------------------------------------\n",
      "Model: ../../VAD_models/C2D_AE_models/128/experiments/half_precision/C2D_3x3_128_2xE_L2_HP_MSE_UCSD2/C2D_3x3_128_2xE_L2_HP_MSE_UCSD2.pth.tar\n",
      "             Loss -2   Loss -1   Loss *\n",
      "Training    0.000739  0.000736  0.00073\n",
      "Validation  0.000919  0.000820  0.00092\n",
      "----------------------------------------\n",
      "------------------------------------------------------------\n",
      "Epoch: [092/300] | time/epoch: 2.48 seconds\n",
      "------------------------------------------------------------\n",
      "Model: ../../VAD_models/C2D_AE_models/128/experiments/half_precision/C2D_3x3_128_2xE_L2_HP_MSE_UCSD2/C2D_3x3_128_2xE_L2_HP_MSE_UCSD2.pth.tar\n",
      "             Loss -2  Loss -1    Loss *\n",
      "Training    0.000736  0.00073  0.000733\n",
      "Validation  0.000820  0.00092  0.000929\n",
      "----------------------------------------\n",
      "------------------------------------------------------------\n",
      "Epoch: [093/300] | time/epoch: 2.49 seconds\n",
      "------------------------------------------------------------\n",
      "Model: ../../VAD_models/C2D_AE_models/128/experiments/half_precision/C2D_3x3_128_2xE_L2_HP_MSE_UCSD2/C2D_3x3_128_2xE_L2_HP_MSE_UCSD2.pth.tar\n",
      "            Loss -2   Loss -1    Loss *\n",
      "Training    0.00073  0.000733  0.000736\n",
      "Validation  0.00092  0.000929  0.000885\n",
      "----------------------------------------\n",
      "------------------------------------------------------------\n",
      "Epoch: [094/300] | time/epoch: 2.48 seconds\n",
      "------------------------------------------------------------\n",
      "Model: ../../VAD_models/C2D_AE_models/128/experiments/half_precision/C2D_3x3_128_2xE_L2_HP_MSE_UCSD2/C2D_3x3_128_2xE_L2_HP_MSE_UCSD2.pth.tar\n",
      "             Loss -2   Loss -1    Loss *\n",
      "Training    0.000733  0.000736  0.000731\n",
      "Validation  0.000929  0.000885  0.000821\n",
      "----------------------------------------\n",
      "------------------------------------------------------------\n",
      "Epoch: [095/300] | time/epoch: 2.50 seconds\n",
      "------------------------------------------------------------\n",
      "Model: ../../VAD_models/C2D_AE_models/128/experiments/half_precision/C2D_3x3_128_2xE_L2_HP_MSE_UCSD2/C2D_3x3_128_2xE_L2_HP_MSE_UCSD2.pth.tar\n",
      "             Loss -2   Loss -1    Loss *\n",
      "Training    0.000736  0.000731  0.000716\n",
      "Validation  0.000885  0.000821  0.000866\n",
      "----------------------------------------\n",
      "------------------------------------------------------------\n",
      "Epoch: [096/300] | time/epoch: 2.50 seconds\n",
      "------------------------------------------------------------\n",
      "Model: ../../VAD_models/C2D_AE_models/128/experiments/half_precision/C2D_3x3_128_2xE_L2_HP_MSE_UCSD2/C2D_3x3_128_2xE_L2_HP_MSE_UCSD2.pth.tar\n",
      "             Loss -2   Loss -1    Loss *\n",
      "Training    0.000731  0.000716  0.000723\n",
      "Validation  0.000821  0.000866  0.000849\n",
      "----------------------------------------\n",
      "------------------------------------------------------------\n",
      "Epoch: [097/300] | time/epoch: 2.49 seconds\n",
      "------------------------------------------------------------\n",
      "Model: ../../VAD_models/C2D_AE_models/128/experiments/half_precision/C2D_3x3_128_2xE_L2_HP_MSE_UCSD2/C2D_3x3_128_2xE_L2_HP_MSE_UCSD2.pth.tar\n",
      "             Loss -2   Loss -1    Loss *\n",
      "Training    0.000716  0.000723  0.000722\n",
      "Validation  0.000866  0.000849  0.000856\n",
      "----------------------------------------\n",
      "------------------------------------------------------------\n",
      "Epoch: [098/300] | time/epoch: 2.50 seconds\n",
      "------------------------------------------------------------\n",
      "Model: ../../VAD_models/C2D_AE_models/128/experiments/half_precision/C2D_3x3_128_2xE_L2_HP_MSE_UCSD2/C2D_3x3_128_2xE_L2_HP_MSE_UCSD2.pth.tar\n",
      "             Loss -2   Loss -1    Loss *\n",
      "Training    0.000723  0.000722  0.000714\n",
      "Validation  0.000849  0.000856  0.000803\n",
      "----------------------------------------\n",
      "------------------------------------------------------------\n",
      "Epoch: [099/300] | time/epoch: 2.50 seconds\n",
      "------------------------------------------------------------\n",
      "Model: ../../VAD_models/C2D_AE_models/128/experiments/half_precision/C2D_3x3_128_2xE_L2_HP_MSE_UCSD2/C2D_3x3_128_2xE_L2_HP_MSE_UCSD2.pth.tar\n",
      "             Loss -2   Loss -1    Loss *\n",
      "Training    0.000722  0.000714  0.000717\n",
      "Validation  0.000856  0.000803  0.000780\n",
      "----------------------------------------\n",
      "------------------------------------------------------------\n",
      "Epoch: [100/300] | time/epoch: 2.59 seconds\n",
      "------------------------------------------------------------\n",
      "Model: ../../VAD_models/C2D_AE_models/128/experiments/half_precision/C2D_3x3_128_2xE_L2_HP_MSE_UCSD2/C2D_3x3_128_2xE_L2_HP_MSE_UCSD2.pth.tar\n",
      "             Loss -2   Loss -1    Loss *\n",
      "Training    0.000714  0.000717  0.000719\n",
      "Validation  0.000803  0.000780  0.000792\n",
      "----------------------------------------\n",
      "------------------------------------------------------------\n",
      "Epoch: [101/300] | time/epoch: 2.52 seconds\n",
      "------------------------------------------------------------\n",
      "Model: ../../VAD_models/C2D_AE_models/128/experiments/half_precision/C2D_3x3_128_2xE_L2_HP_MSE_UCSD2/C2D_3x3_128_2xE_L2_HP_MSE_UCSD2.pth.tar\n",
      "             Loss -2   Loss -1    Loss *\n",
      "Training    0.000717  0.000719  0.000720\n",
      "Validation  0.000780  0.000792  0.000854\n",
      "----------------------------------------\n",
      "------------------------------------------------------------\n",
      "Epoch: [102/300] | time/epoch: 2.50 seconds\n",
      "------------------------------------------------------------\n",
      "Model: ../../VAD_models/C2D_AE_models/128/experiments/half_precision/C2D_3x3_128_2xE_L2_HP_MSE_UCSD2/C2D_3x3_128_2xE_L2_HP_MSE_UCSD2.pth.tar\n",
      "             Loss -2   Loss -1    Loss *\n",
      "Training    0.000719  0.000720  0.000722\n",
      "Validation  0.000792  0.000854  0.000844\n",
      "----------------------------------------\n",
      "------------------------------------------------------------\n",
      "Epoch: [103/300] | time/epoch: 2.52 seconds\n",
      "------------------------------------------------------------\n",
      "Model: ../../VAD_models/C2D_AE_models/128/experiments/half_precision/C2D_3x3_128_2xE_L2_HP_MSE_UCSD2/C2D_3x3_128_2xE_L2_HP_MSE_UCSD2.pth.tar\n",
      "             Loss -2   Loss -1    Loss *\n",
      "Training    0.000720  0.000722  0.000719\n",
      "Validation  0.000854  0.000844  0.000802\n",
      "----------------------------------------\n",
      "------------------------------------------------------------\n",
      "Epoch: [104/300] | time/epoch: 2.49 seconds\n",
      "------------------------------------------------------------\n",
      "Model: ../../VAD_models/C2D_AE_models/128/experiments/half_precision/C2D_3x3_128_2xE_L2_HP_MSE_UCSD2/C2D_3x3_128_2xE_L2_HP_MSE_UCSD2.pth.tar\n",
      "             Loss -2   Loss -1    Loss *\n",
      "Training    0.000722  0.000719  0.000715\n",
      "Validation  0.000844  0.000802  0.000811\n",
      "----------------------------------------\n"
     ]
    }
   ],
   "source": [
    "trainer.train()"
   ]
  },
  {
   "cell_type": "code",
   "execution_count": null,
   "metadata": {},
   "outputs": [],
   "source": [
    "for ae_model in trainer.autoencoder_models:\n",
    "    save_model(ae_model.model, ae_model.model_file)"
   ]
  },
  {
   "cell_type": "code",
   "execution_count": null,
   "metadata": {},
   "outputs": [],
   "source": [
    "print(\"Training done\")"
   ]
  },
  {
   "cell_type": "markdown",
   "metadata": {},
   "source": [
    "# Testing"
   ]
  },
  {
   "cell_type": "code",
   "execution_count": null,
   "metadata": {},
   "outputs": [],
   "source": [
    "test_data = UCSD(2, isTrain=False, sample_stride = 1)"
   ]
  },
  {
   "cell_type": "code",
   "execution_count": null,
   "metadata": {},
   "outputs": [],
   "source": [
    "for ae_model in trainer.autoencoder_models:\n",
    "    print(\"-\"*40)\n",
    "    print(ae_model.model_file)\n",
    "    tester = AutoEncoder_Tester(\n",
    "        ae_model.model,\n",
    "        test_data,\n",
    "    )\n",
    "    results = tester.test(save_as = \".pkl\".join(ae_model.model_file.split(\".pth.tar\")))\n",
    "    print(\"=\"*40)"
   ]
  },
  {
   "cell_type": "code",
   "execution_count": null,
   "metadata": {},
   "outputs": [],
   "source": [
    "try:\n",
    "    del test_data\n",
    "except:\n",
    "    pass\n",
    "test_data = UCSD(2, isTrain=False, sample_stride = 1, useCorrectedAnnotations = False)"
   ]
  },
  {
   "cell_type": "code",
   "execution_count": null,
   "metadata": {},
   "outputs": [],
   "source": [
    "for ae_model in trainer.autoencoder_models:\n",
    "    print(\"-\"*40)\n",
    "    print(ae_model.model_file)\n",
    "    tester = AutoEncoder_Tester(\n",
    "        ae_model.model,\n",
    "        test_data,\n",
    "    )\n",
    "    results = tester.test(save_as = \".pkl\".join(ae_model.model_file.split(\".pth.tar\")))\n",
    "    print(\"=\"*40)"
   ]
  },
  {
   "cell_type": "code",
   "execution_count": null,
   "metadata": {},
   "outputs": [],
   "source": [
    "exit()"
   ]
  },
  {
   "cell_type": "code",
   "execution_count": null,
   "metadata": {},
   "outputs": [],
   "source": []
  },
  {
   "cell_type": "code",
   "execution_count": 15,
   "metadata": {},
   "outputs": [
    {
     "name": "stderr",
     "output_type": "stream",
     "text": [
      "0it [00:00, ?it/s]"
     ]
    },
    {
     "name": "stdout",
     "output_type": "stream",
     "text": [
      "----------------------------------------\n",
      "../../VAD_models/C2D_AE_models/128/experiments/weight_init/C2D_3x3_128_2xE_L2_MSE_UCSD2/C2D_3x3_128_2xE_L2_MSE_UCSD2.pth.tar\n"
     ]
    },
    {
     "name": "stderr",
     "output_type": "stream",
     "text": [
      "7it [00:14,  2.08s/it]"
     ]
    },
    {
     "name": "stdout",
     "output_type": "stream",
     "text": [
      "Calculation of AUC-ROC score Only one class present in y_true. ROC AUC score is not defined in that case.\n"
     ]
    },
    {
     "name": "stderr",
     "output_type": "stream",
     "text": [
      "8it [00:16,  2.09s/it]"
     ]
    },
    {
     "name": "stdout",
     "output_type": "stream",
     "text": [
      "Calculation of AUC-ROC score Only one class present in y_true. ROC AUC score is not defined in that case.\n"
     ]
    },
    {
     "name": "stderr",
     "output_type": "stream",
     "text": [
      "9it [00:17,  1.91s/it]"
     ]
    },
    {
     "name": "stdout",
     "output_type": "stream",
     "text": [
      "Calculation of AUC-ROC score Only one class present in y_true. ROC AUC score is not defined in that case.\n"
     ]
    },
    {
     "name": "stderr",
     "output_type": "stream",
     "text": [
      "10it [00:19,  1.87s/it]"
     ]
    },
    {
     "name": "stdout",
     "output_type": "stream",
     "text": [
      "Calculation of AUC-ROC score Only one class present in y_true. ROC AUC score is not defined in that case.\n"
     ]
    },
    {
     "name": "stderr",
     "output_type": "stream",
     "text": [
      "12it [00:23,  2.00s/it]\n",
      "0it [00:00, ?it/s]"
     ]
    },
    {
     "name": "stdout",
     "output_type": "stream",
     "text": [
      "AUC-ROC Score of  OneClassSVM: 0.461060232476224\n",
      "-------------------- TEST RESULTS --------------------\n",
      "{'agg_abs_reg_aucroc': 0.8640542444522719,\n",
      " 'agg_sqr_reg_aucroc': 0.8419223318069743,\n",
      " 'mean_abs_vid_aucroc': 0.8966140761970254,\n",
      " 'mean_sqr_vid_aucroc': 0.8416688941490238,\n",
      " 'overall_abs_aucroc': 0.6628883409651285,\n",
      " 'overall_sqr_aucroc': 0.6535558295174356}\n",
      "======================================================\n",
      "========================================\n",
      "----------------------------------------\n",
      "../../VAD_models/C2D_AE_models/128/experiments/weight_init/C2D_3x3_128_2xE_L2_WI_MSE_UCSD2/C2D_3x3_128_2xE_L2_WI_MSE_UCSD2.pth.tar\n"
     ]
    },
    {
     "name": "stderr",
     "output_type": "stream",
     "text": [
      "7it [00:14,  2.06s/it]"
     ]
    },
    {
     "name": "stdout",
     "output_type": "stream",
     "text": [
      "Calculation of AUC-ROC score Only one class present in y_true. ROC AUC score is not defined in that case.\n"
     ]
    },
    {
     "name": "stderr",
     "output_type": "stream",
     "text": [
      "8it [00:16,  2.08s/it]"
     ]
    },
    {
     "name": "stdout",
     "output_type": "stream",
     "text": [
      "Calculation of AUC-ROC score Only one class present in y_true. ROC AUC score is not defined in that case.\n"
     ]
    },
    {
     "name": "stderr",
     "output_type": "stream",
     "text": [
      "9it [00:17,  1.90s/it]"
     ]
    },
    {
     "name": "stdout",
     "output_type": "stream",
     "text": [
      "Calculation of AUC-ROC score Only one class present in y_true. ROC AUC score is not defined in that case.\n"
     ]
    },
    {
     "name": "stderr",
     "output_type": "stream",
     "text": [
      "10it [00:19,  1.87s/it]"
     ]
    },
    {
     "name": "stdout",
     "output_type": "stream",
     "text": [
      "Calculation of AUC-ROC score Only one class present in y_true. ROC AUC score is not defined in that case.\n"
     ]
    },
    {
     "name": "stderr",
     "output_type": "stream",
     "text": [
      "12it [00:23,  1.99s/it]\n"
     ]
    },
    {
     "name": "stdout",
     "output_type": "stream",
     "text": [
      "AUC-ROC Score of  OneClassSVM: 0.39646882705177877\n",
      "-------------------- TEST RESULTS --------------------\n",
      "{'agg_abs_reg_aucroc': 0.8580530116238112,\n",
      " 'agg_sqr_reg_aucroc': 0.84510919337795,\n",
      " 'mean_abs_vid_aucroc': 0.9180431305528539,\n",
      " 'mean_sqr_vid_aucroc': 0.8343003075647294,\n",
      " 'overall_abs_aucroc': 0.6748274040154983,\n",
      " 'overall_sqr_aucroc': 0.6593571680169074}\n",
      "======================================================\n",
      "========================================\n"
     ]
    },
    {
     "data": {
      "text/plain": [
       "<Figure size 432x288 with 0 Axes>"
      ]
     },
     "metadata": {},
     "output_type": "display_data"
    }
   ],
   "source": [
    "for ae_model in trainer.autoencoder_models:\n",
    "    print(\"-\"*40)\n",
    "    print(ae_model.model_file)\n",
    "    tester = AutoEncoder_Tester(\n",
    "        ae_model.model,\n",
    "        test_data,\n",
    "    )\n",
    "    results = tester.test(save_as = \".pkl\".join(ae_model.model_file.split(\".pth.tar\")))\n",
    "    print(\"=\"*40)"
   ]
  },
  {
   "cell_type": "code",
   "execution_count": 19,
   "metadata": {},
   "outputs": [
    {
     "name": "stderr",
     "output_type": "stream",
     "text": [
      "0it [00:00, ?it/s]"
     ]
    },
    {
     "name": "stdout",
     "output_type": "stream",
     "text": [
      "----------------------------------------\n",
      "../../VAD_models/C2D_AE_models/128/experiments/weight_init/C2D_3x3_128_2xE_L2_MSE_UCSD2/C2D_3x3_128_2xE_L2_MSE_UCSD2.pth.tar\n"
     ]
    },
    {
     "name": "stderr",
     "output_type": "stream",
     "text": [
      "7it [00:14,  2.08s/it]"
     ]
    },
    {
     "name": "stdout",
     "output_type": "stream",
     "text": [
      "Calculation of AUC-ROC score Only one class present in y_true. ROC AUC score is not defined in that case.\n"
     ]
    },
    {
     "name": "stderr",
     "output_type": "stream",
     "text": [
      "8it [00:16,  2.09s/it]"
     ]
    },
    {
     "name": "stdout",
     "output_type": "stream",
     "text": [
      "Calculation of AUC-ROC score Only one class present in y_true. ROC AUC score is not defined in that case.\n"
     ]
    },
    {
     "name": "stderr",
     "output_type": "stream",
     "text": [
      "9it [00:18,  1.91s/it]"
     ]
    },
    {
     "name": "stdout",
     "output_type": "stream",
     "text": [
      "Calculation of AUC-ROC score Only one class present in y_true. ROC AUC score is not defined in that case.\n"
     ]
    },
    {
     "name": "stderr",
     "output_type": "stream",
     "text": [
      "10it [00:19,  1.88s/it]"
     ]
    },
    {
     "name": "stdout",
     "output_type": "stream",
     "text": [
      "Calculation of AUC-ROC score Only one class present in y_true. ROC AUC score is not defined in that case.\n"
     ]
    },
    {
     "name": "stderr",
     "output_type": "stream",
     "text": [
      "12it [00:24,  2.00s/it]\n",
      "0it [00:00, ?it/s]"
     ]
    },
    {
     "name": "stdout",
     "output_type": "stream",
     "text": [
      "AUC-ROC Score of  OneClassSVM: 0.4831538647213431\n",
      "-------------------- TEST RESULTS --------------------\n",
      "{'agg_abs_reg_aucroc': 0.8661637410824438,\n",
      " 'agg_sqr_reg_aucroc': 0.8392015434747626,\n",
      " 'mean_abs_vid_aucroc': 0.8995628838026245,\n",
      " 'mean_sqr_vid_aucroc': 0.8447251985836959,\n",
      " 'overall_abs_aucroc': 0.6913083999356326,\n",
      " 'overall_sqr_aucroc': 0.6763748457866223}\n",
      "======================================================\n",
      "========================================\n",
      "----------------------------------------\n",
      "../../VAD_models/C2D_AE_models/128/experiments/weight_init/C2D_3x3_128_2xE_L2_WI_MSE_UCSD2/C2D_3x3_128_2xE_L2_WI_MSE_UCSD2.pth.tar\n"
     ]
    },
    {
     "name": "stderr",
     "output_type": "stream",
     "text": [
      "7it [00:14,  2.07s/it]"
     ]
    },
    {
     "name": "stdout",
     "output_type": "stream",
     "text": [
      "Calculation of AUC-ROC score Only one class present in y_true. ROC AUC score is not defined in that case.\n"
     ]
    },
    {
     "name": "stderr",
     "output_type": "stream",
     "text": [
      "8it [00:16,  2.09s/it]"
     ]
    },
    {
     "name": "stdout",
     "output_type": "stream",
     "text": [
      "Calculation of AUC-ROC score Only one class present in y_true. ROC AUC score is not defined in that case.\n"
     ]
    },
    {
     "name": "stderr",
     "output_type": "stream",
     "text": [
      "9it [00:17,  1.90s/it]"
     ]
    },
    {
     "name": "stdout",
     "output_type": "stream",
     "text": [
      "Calculation of AUC-ROC score Only one class present in y_true. ROC AUC score is not defined in that case.\n"
     ]
    },
    {
     "name": "stderr",
     "output_type": "stream",
     "text": [
      "10it [00:19,  1.88s/it]"
     ]
    },
    {
     "name": "stdout",
     "output_type": "stream",
     "text": [
      "Calculation of AUC-ROC score Only one class present in y_true. ROC AUC score is not defined in that case.\n"
     ]
    },
    {
     "name": "stderr",
     "output_type": "stream",
     "text": [
      "12it [00:23,  2.00s/it]\n"
     ]
    },
    {
     "name": "stdout",
     "output_type": "stream",
     "text": [
      "AUC-ROC Score of  OneClassSVM: 0.41667951778147294\n",
      "-------------------- TEST RESULTS --------------------\n",
      "{'agg_abs_reg_aucroc': 0.859137813120206,\n",
      " 'agg_sqr_reg_aucroc': 0.8495832886338035,\n",
      " 'mean_abs_vid_aucroc': 0.9182424731713481,\n",
      " 'mean_sqr_vid_aucroc': 0.8342097128196919,\n",
      " 'overall_abs_aucroc': 0.7041349300005364,\n",
      " 'overall_sqr_aucroc': 0.6851231025049617}\n",
      "======================================================\n",
      "========================================\n"
     ]
    },
    {
     "data": {
      "text/plain": [
       "<Figure size 432x288 with 0 Axes>"
      ]
     },
     "metadata": {},
     "output_type": "display_data"
    }
   ],
   "source": [
    "for ae_model in trainer.autoencoder_models:\n",
    "    print(\"-\"*40)\n",
    "    print(ae_model.model_file)\n",
    "    tester = AutoEncoder_Tester(\n",
    "        ae_model.model,\n",
    "        test_data,\n",
    "    )\n",
    "    results = tester.test(save_as = \".pkl\".join(ae_model.model_file.split(\".pth.tar\")))\n",
    "    print(\"=\"*40)"
   ]
  }
 ],
 "metadata": {
  "kernelspec": {
   "display_name": "Python 3",
   "language": "python",
   "name": "python3"
  },
  "language_info": {
   "codemirror_mode": {
    "name": "ipython",
    "version": 3
   },
   "file_extension": ".py",
   "mimetype": "text/x-python",
   "name": "python",
   "nbconvert_exporter": "python",
   "pygments_lexer": "ipython3",
   "version": "3.6.9"
  }
 },
 "nbformat": 4,
 "nbformat_minor": 4
}
