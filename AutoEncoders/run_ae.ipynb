{
 "cells": [
  {
   "cell_type": "code",
   "execution_count": 1,
   "metadata": {},
   "outputs": [],
   "source": [
    "import sys\n",
    "sys.path.append(\"..\")"
   ]
  },
  {
   "cell_type": "code",
   "execution_count": null,
   "metadata": {},
   "outputs": [],
   "source": [
    "from train_autoencoder import *\n",
    "from test_autoencoder import *"
   ]
  },
  {
   "cell_type": "code",
   "execution_count": null,
   "metadata": {},
   "outputs": [],
   "source": [
    "from C2D_Models import *"
   ]
  },
  {
   "cell_type": "code",
   "execution_count": 4,
   "metadata": {},
   "outputs": [],
   "source": [
    "models = [\n",
    "    C2D_AE_128_3x3(channels=1),\n",
    "    C2D_AE_128_3x3(channels=1),\n",
    "         ]\n",
    "\n",
    "model_names = [\n",
    "    \"C2D_3x3_128_2xE_L2\",\n",
    "    \"C2D_3x3_128_2xE_L2_WI\",\n",
    "]\n",
    "\n",
    "model_names = [join_paths([\"../../VAD_models/C2D_AE_models/128/experiments/weight_init/\", mn+\"_MSE_UCSD2\"]) for mn in model_names]    "
   ]
  },
  {
   "cell_type": "code",
   "execution_count": 5,
   "metadata": {},
   "outputs": [],
   "source": [
    "from general.weights_init import weights_init"
   ]
  },
  {
   "cell_type": "code",
   "execution_count": 6,
   "metadata": {},
   "outputs": [
    {
     "data": {
      "text/plain": [
       "C2D_AE_128_3x3(\n",
       "  (encoder): Sequential(\n",
       "    (0): Sequential(\n",
       "      (0): Conv2d(1, 64, kernel_size=(3, 3), stride=(2, 2))\n",
       "      (1): BatchNorm2d(64, eps=1e-05, momentum=0.1, affine=True, track_running_stats=True)\n",
       "      (2): LeakyReLU(negative_slope=0.01)\n",
       "    )\n",
       "    (1): Sequential(\n",
       "      (0): Conv2d(64, 64, kernel_size=(3, 3), stride=(2, 2))\n",
       "      (1): BatchNorm2d(64, eps=1e-05, momentum=0.1, affine=True, track_running_stats=True)\n",
       "      (2): LeakyReLU(negative_slope=0.01)\n",
       "    )\n",
       "    (2): Sequential(\n",
       "      (0): Conv2d(64, 128, kernel_size=(3, 3), stride=(2, 2))\n",
       "      (1): BatchNorm2d(128, eps=1e-05, momentum=0.1, affine=True, track_running_stats=True)\n",
       "      (2): LeakyReLU(negative_slope=0.01)\n",
       "    )\n",
       "    (3): Sequential(\n",
       "      (0): Conv2d(128, 256, kernel_size=(3, 3), stride=(2, 2))\n",
       "      (1): BatchNorm2d(256, eps=1e-05, momentum=0.1, affine=True, track_running_stats=True)\n",
       "      (2): LeakyReLU(negative_slope=0.01)\n",
       "    )\n",
       "    (4): Sequential(\n",
       "      (0): Conv2d(256, 128, kernel_size=(3, 3), stride=(2, 2))\n",
       "      (1): BatchNorm2d(128, eps=1e-05, momentum=0.1, affine=True, track_running_stats=True)\n",
       "      (2): LeakyReLU(negative_slope=0.01)\n",
       "    )\n",
       "    (5): Sequential(\n",
       "      (0): Conv2d(128, 128, kernel_size=(2, 2), stride=(1, 1))\n",
       "      (1): BatchNorm2d(128, eps=1e-05, momentum=0.1, affine=True, track_running_stats=True)\n",
       "      (2): Tanh()\n",
       "    )\n",
       "  )\n",
       "  (decoder): Sequential(\n",
       "    (0): Sequential(\n",
       "      (0): ConvTranspose2d(128, 128, kernel_size=(2, 2), stride=(1, 1))\n",
       "      (1): BatchNorm2d(128, eps=1e-05, momentum=0.1, affine=True, track_running_stats=True)\n",
       "      (2): LeakyReLU(negative_slope=0.01)\n",
       "    )\n",
       "    (1): Sequential(\n",
       "      (0): ConvTranspose2d(128, 256, kernel_size=(3, 3), stride=(2, 2))\n",
       "      (1): BatchNorm2d(256, eps=1e-05, momentum=0.1, affine=True, track_running_stats=True)\n",
       "      (2): LeakyReLU(negative_slope=0.01)\n",
       "    )\n",
       "    (2): Sequential(\n",
       "      (0): ConvTranspose2d(256, 128, kernel_size=(3, 3), stride=(2, 2))\n",
       "      (1): BatchNorm2d(128, eps=1e-05, momentum=0.1, affine=True, track_running_stats=True)\n",
       "      (2): LeakyReLU(negative_slope=0.01)\n",
       "    )\n",
       "    (3): Sequential(\n",
       "      (0): ConvTranspose2d(128, 64, kernel_size=(3, 3), stride=(2, 2))\n",
       "      (1): BatchNorm2d(64, eps=1e-05, momentum=0.1, affine=True, track_running_stats=True)\n",
       "      (2): LeakyReLU(negative_slope=0.01)\n",
       "    )\n",
       "    (4): Sequential(\n",
       "      (0): ConvTranspose2d(64, 64, kernel_size=(3, 3), stride=(2, 2))\n",
       "      (1): BatchNorm2d(64, eps=1e-05, momentum=0.1, affine=True, track_running_stats=True)\n",
       "      (2): LeakyReLU(negative_slope=0.01)\n",
       "    )\n",
       "    (5): Sequential(\n",
       "      (0): ConvTranspose2d(64, 1, kernel_size=(3, 3), stride=(2, 2), output_padding=(1, 1))\n",
       "      (1): BatchNorm2d(1, eps=1e-05, momentum=0.1, affine=True, track_running_stats=True)\n",
       "      (2): Sigmoid()\n",
       "    )\n",
       "  )\n",
       ")"
      ]
     },
     "execution_count": 6,
     "metadata": {},
     "output_type": "execute_result"
    }
   ],
   "source": [
    "models[-1].apply(weights_init)"
   ]
  },
  {
   "cell_type": "markdown",
   "metadata": {},
   "source": [
    "# Training"
   ]
  },
  {
   "cell_type": "code",
   "execution_count": 7,
   "metadata": {},
   "outputs": [],
   "source": [
    "optimizers = [ADAM(m) for m in models]\n",
    "losses = [MSE_LOSS() for m in models]"
   ]
  },
  {
   "cell_type": "code",
   "execution_count": 8,
   "metadata": {},
   "outputs": [
    {
     "name": "stderr",
     "output_type": "stream",
     "text": [
      "16it [00:02,  7.25it/s]\n"
     ]
    }
   ],
   "source": [
    "train_data = UCSD(2)"
   ]
  },
  {
   "cell_type": "code",
   "execution_count": 9,
   "metadata": {},
   "outputs": [],
   "source": [
    "train_loader, val_loader = get_data_loaders(train_data, batch_size=128)"
   ]
  },
  {
   "cell_type": "code",
   "execution_count": 10,
   "metadata": {},
   "outputs": [],
   "source": [
    "trainer = AutoEncoder_Trainer(\n",
    "    models,\n",
    "    model_names,\n",
    "    train_loader, \n",
    "    val_loader,\n",
    "    optimizers,\n",
    "    losses,\n",
    "    epochs = 300\n",
    ")"
   ]
  },
  {
   "cell_type": "code",
   "execution_count": null,
   "metadata": {},
   "outputs": [
    {
     "name": "stdout",
     "output_type": "stream",
     "text": [
      "Estimated Time 0.39 hours | Will be completed by 2020-11-25 23:20:\n",
      "------------------------------------------------------------\n",
      "Epoch: [001/300] | time/epoch: 4.65 seconds\n",
      "------------------------------------------------------------\n",
      "Model: ../../VAD_models/C2D_AE_models/128/experiments/weight_init/C2D_3x3_128_2xE_L2_MSE_UCSD2/C2D_3x3_128_2xE_L2_MSE_UCSD2.pth.tar\n",
      "                Loss\n",
      "Training    0.028035\n",
      "Validation  0.044131\n",
      "----------------------------------------\n",
      "Model: ../../VAD_models/C2D_AE_models/128/experiments/weight_init/C2D_3x3_128_2xE_L2_WI_MSE_UCSD2/C2D_3x3_128_2xE_L2_WI_MSE_UCSD2.pth.tar\n",
      "                Loss\n",
      "Training    0.029289\n",
      "Validation  0.037281\n",
      "----------------------------------------\n",
      "------------------------------------------------------------\n",
      "Epoch: [002/300] | time/epoch: 4.53 seconds\n",
      "------------------------------------------------------------\n",
      "Model: ../../VAD_models/C2D_AE_models/128/experiments/weight_init/C2D_3x3_128_2xE_L2_MSE_UCSD2/C2D_3x3_128_2xE_L2_MSE_UCSD2.pth.tar\n",
      "                Loss\n",
      "Training    0.008916\n",
      "Validation  0.028493\n",
      "----------------------------------------\n",
      "Model: ../../VAD_models/C2D_AE_models/128/experiments/weight_init/C2D_3x3_128_2xE_L2_WI_MSE_UCSD2/C2D_3x3_128_2xE_L2_WI_MSE_UCSD2.pth.tar\n",
      "                Loss\n",
      "Training    0.010082\n",
      "Validation  0.018168\n",
      "----------------------------------------\n"
     ]
    }
   ],
   "source": [
    "trainer.train()"
   ]
  },
  {
   "cell_type": "code",
   "execution_count": null,
   "metadata": {},
   "outputs": [],
   "source": [
    "for ae_model in trainer.autoencoder_models:\n",
    "    save_model(ae_model.model, ae_model.model_file)"
   ]
  },
  {
   "cell_type": "code",
   "execution_count": null,
   "metadata": {},
   "outputs": [],
   "source": [
    "print(\"Training done\")"
   ]
  },
  {
   "cell_type": "markdown",
   "metadata": {},
   "source": [
    "# Testing"
   ]
  },
  {
   "cell_type": "code",
   "execution_count": null,
   "metadata": {},
   "outputs": [],
   "source": [
    "test_data = UCSD(2, isTrain=False, sample_stride = 1)"
   ]
  },
  {
   "cell_type": "code",
   "execution_count": null,
   "metadata": {},
   "outputs": [],
   "source": [
    "for ae_model in trainer.autoencoder_models:\n",
    "    print(\"-\"*40)\n",
    "    print(ae_model.model_file)\n",
    "    tester = AutoEncoder_Tester(\n",
    "        ae_model.model,\n",
    "        test_data,\n",
    "    )\n",
    "    results = tester.test(save_as = \".pkl\".join(ae_model.model_file.split(\".pth.tar\")))\n",
    "    print(\"=\"*40)"
   ]
  },
  {
   "cell_type": "code",
   "execution_count": null,
   "metadata": {},
   "outputs": [],
   "source": [
    "try:\n",
    "    del test_data\n",
    "except:\n",
    "    pass\n",
    "test_data = UCSD(2, image_size=144, isTrain=False, sample_stride = 1, useCorrectedAnnotations = False)"
   ]
  },
  {
   "cell_type": "code",
   "execution_count": null,
   "metadata": {},
   "outputs": [],
   "source": [
    "for ae_model in trainer.autoencoder_models:\n",
    "    print(\"-\"*40)\n",
    "    print(ae_model.model_file)\n",
    "    tester = AutoEncoder_Tester(\n",
    "        ae_model.model,\n",
    "        test_data,\n",
    "    )\n",
    "    results = tester.test(save_as = \".pkl\".join(ae_model.model_file.split(\".pth.tar\")))\n",
    "    print(\"=\"*40)"
   ]
  },
  {
   "cell_type": "code",
   "execution_count": null,
   "metadata": {},
   "outputs": [],
   "source": [
    "exit()"
   ]
  },
  {
   "cell_type": "code",
   "execution_count": null,
   "metadata": {},
   "outputs": [],
   "source": []
  }
 ],
 "metadata": {
  "kernelspec": {
   "display_name": "Python 3",
   "language": "python",
   "name": "python3"
  },
  "language_info": {
   "codemirror_mode": {
    "name": "ipython",
    "version": 3
   },
   "file_extension": ".py",
   "mimetype": "text/x-python",
   "name": "python",
   "nbconvert_exporter": "python",
   "pygments_lexer": "ipython3",
   "version": "3.6.9"
  }
 },
 "nbformat": 4,
 "nbformat_minor": 4
}
