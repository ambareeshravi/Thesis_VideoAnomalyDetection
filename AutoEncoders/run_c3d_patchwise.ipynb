{
 "cells": [
  {
   "cell_type": "code",
   "execution_count": 1,
   "metadata": {},
   "outputs": [],
   "source": [
    "import sys\n",
    "sys.path.append(\"..\")\n",
    "\n",
    "from PatchWise.models_PatchWise import *"
   ]
  },
  {
   "cell_type": "code",
   "execution_count": 2,
   "metadata": {},
   "outputs": [],
   "source": [
    "from train_autoencoder import *\n",
    "from test_autoencoder import AutoEncoder_Tester"
   ]
  },
  {
   "cell_type": "code",
   "execution_count": 3,
   "metadata": {},
   "outputs": [],
   "source": [
    "models = [\n",
    "    PatchWise_C3D(channels = 1)\n",
    "         ]\n",
    "\n",
    "model_names = [\n",
    "    \"PatchWise_C3D\",\n",
    "]\n",
    "\n",
    "model_names = [join_paths([\"C3D_AE_models/\", mn+\"_MSE_AVENUE\"]) for mn in model_names]    "
   ]
  },
  {
   "cell_type": "markdown",
   "metadata": {},
   "source": [
    "# Training"
   ]
  },
  {
   "cell_type": "markdown",
   "metadata": {},
   "source": [
    "1. 30/50 epochs\n",
    "2. effect of smoothening on auc roc\n",
    "3. lr scheduler\n",
    "4. low filters"
   ]
  },
  {
   "cell_type": "code",
   "execution_count": 4,
   "metadata": {},
   "outputs": [],
   "source": [
    "optimizers = [torch.optim.Adam(m.parameters(), lr = 5e-4) for m in models]\n",
    "losses = [nn.MSELoss() for m in models]"
   ]
  },
  {
   "cell_type": "code",
   "execution_count": 5,
   "metadata": {},
   "outputs": [
    {
     "name": "stderr",
     "output_type": "stream",
     "text": [
      "16it [01:32,  5.78s/it]\n"
     ]
    }
   ],
   "source": [
    "train_data = UCSD(2, asImages=False, n_frames = 16)"
   ]
  },
  {
   "cell_type": "code",
   "execution_count": 9,
   "metadata": {},
   "outputs": [],
   "source": [
    "train_loader, val_loader = get_data_loaders(train_data, batch_size=32)"
   ]
  },
  {
   "cell_type": "code",
   "execution_count": 10,
   "metadata": {},
   "outputs": [],
   "source": [
    "trainer = AutoEncoder_Trainer(\n",
    "    models,\n",
    "    model_names,\n",
    "    train_loader, \n",
    "    val_loader,\n",
    "    optimizers,\n",
    "    losses,\n",
    "    epochs = 200\n",
    ")"
   ]
  },
  {
   "cell_type": "code",
   "execution_count": null,
   "metadata": {
    "collapsed": true,
    "jupyter": {
     "outputs_hidden": true
    }
   },
   "outputs": [
    {
     "name": "stdout",
     "output_type": "stream",
     "text": [
      "Estimated Time 53.84 hours | Will be completed by 2020-11-18 02:07:\n",
      "------------------------------------------------------------\n",
      "Epoch: [001/200] | time/epoch: 974.06 seconds\n",
      "------------------------------------------------------------\n",
      "Model: C3D_AE_models/PatchWise_C3D_MSE_AVENUE/PatchWise_C3D_MSE_AVENUE.pth.tar\n",
      "                Loss\n",
      "Training    0.014960\n",
      "Validation  0.014625\n",
      "----------------------------------------\n",
      "------------------------------------------------------------\n",
      "Epoch: [002/200] | time/epoch: 972.77 seconds\n",
      "------------------------------------------------------------\n",
      "Model: C3D_AE_models/PatchWise_C3D_MSE_AVENUE/PatchWise_C3D_MSE_AVENUE.pth.tar\n",
      "                Loss\n",
      "Training    0.009791\n",
      "Validation  0.008697\n",
      "----------------------------------------\n",
      "------------------------------------------------------------\n",
      "Epoch: [003/200] | time/epoch: 972.84 seconds\n",
      "------------------------------------------------------------\n",
      "Model: C3D_AE_models/PatchWise_C3D_MSE_AVENUE/PatchWise_C3D_MSE_AVENUE.pth.tar\n",
      "             Loss -2   Loss -1    Loss *\n",
      "Training    0.014960  0.009791  0.008697\n",
      "Validation  0.014625  0.008697  0.008048\n",
      "----------------------------------------\n",
      "------------------------------------------------------------\n",
      "Epoch: [004/200] | time/epoch: 973.55 seconds\n",
      "------------------------------------------------------------\n",
      "Model: C3D_AE_models/PatchWise_C3D_MSE_AVENUE/PatchWise_C3D_MSE_AVENUE.pth.tar\n",
      "             Loss -2   Loss -1    Loss *\n",
      "Training    0.009791  0.008697  0.006294\n",
      "Validation  0.008697  0.008048  0.005568\n",
      "----------------------------------------\n",
      "------------------------------------------------------------\n",
      "Epoch: [005/200] | time/epoch: 972.77 seconds\n",
      "------------------------------------------------------------\n",
      "Model: C3D_AE_models/PatchWise_C3D_MSE_AVENUE/PatchWise_C3D_MSE_AVENUE.pth.tar\n",
      "             Loss -2   Loss -1    Loss *\n",
      "Training    0.008697  0.006294  0.004117\n",
      "Validation  0.008048  0.005568  0.006904\n",
      "----------------------------------------\n",
      "------------------------------------------------------------\n",
      "Epoch: [006/200] | time/epoch: 973.44 seconds\n",
      "------------------------------------------------------------\n",
      "Model: C3D_AE_models/PatchWise_C3D_MSE_AVENUE/PatchWise_C3D_MSE_AVENUE.pth.tar\n",
      "             Loss -2   Loss -1    Loss *\n",
      "Training    0.006294  0.004117  0.003229\n",
      "Validation  0.005568  0.006904  0.002650\n",
      "----------------------------------------\n",
      "------------------------------------------------------------\n",
      "Epoch: [007/200] | time/epoch: 972.71 seconds\n",
      "------------------------------------------------------------\n",
      "Model: C3D_AE_models/PatchWise_C3D_MSE_AVENUE/PatchWise_C3D_MSE_AVENUE.pth.tar\n",
      "             Loss -2   Loss -1    Loss *\n",
      "Training    0.004117  0.003229  0.002856\n",
      "Validation  0.006904  0.002650  0.002521\n",
      "----------------------------------------\n",
      "------------------------------------------------------------\n",
      "Epoch: [008/200] | time/epoch: 973.33 seconds\n",
      "------------------------------------------------------------\n",
      "Model: C3D_AE_models/PatchWise_C3D_MSE_AVENUE/PatchWise_C3D_MSE_AVENUE.pth.tar\n",
      "             Loss -2   Loss -1    Loss *\n",
      "Training    0.003229  0.002856  0.002679\n",
      "Validation  0.002650  0.002521  0.003161\n",
      "----------------------------------------\n"
     ]
    }
   ],
   "source": [
    "trainer.train()"
   ]
  },
  {
   "cell_type": "code",
   "execution_count": 12,
   "metadata": {},
   "outputs": [],
   "source": [
    "save_model(trainer.autoencoder_models[0].model, trainer.autoencoder_models[0].model_file)"
   ]
  },
  {
   "cell_type": "code",
   "execution_count": null,
   "metadata": {},
   "outputs": [],
   "source": [
    "print(\"Training done\")"
   ]
  },
  {
   "cell_type": "code",
   "execution_count": null,
   "metadata": {},
   "outputs": [],
   "source": []
  },
  {
   "cell_type": "markdown",
   "metadata": {},
   "source": [
    "# Testing"
   ]
  },
  {
   "cell_type": "code",
   "execution_count": 4,
   "metadata": {},
   "outputs": [],
   "source": [
    "model = models[0]\n",
    "model_path = \"C3D_AE_models/PatchWise_C3D_MSE_AVENUE/PatchWise_C3D_MSE_AVENUE.pth.tar\""
   ]
  },
  {
   "cell_type": "code",
   "execution_count": 5,
   "metadata": {},
   "outputs": [],
   "source": [
    "load_model(model, model_path)"
   ]
  },
  {
   "cell_type": "code",
   "execution_count": 6,
   "metadata": {},
   "outputs": [
    {
     "name": "stderr",
     "output_type": "stream",
     "text": [
      "12it [00:01,  6.77it/s]\n"
     ]
    }
   ],
   "source": [
    "test_data = UCSD(2, isTrain=False, sample_stride = 1, useCorrectedAnnotations=False)"
   ]
  },
  {
   "cell_type": "code",
   "execution_count": 7,
   "metadata": {},
   "outputs": [
    {
     "name": "stderr",
     "output_type": "stream",
     "text": [
      "7it [00:11,  1.62s/it]"
     ]
    },
    {
     "name": "stdout",
     "output_type": "stream",
     "text": [
      "Abs ROC-AUC: Only one class present in y_true. ROC AUC score is not defined in that case.\n",
      "Sqr ROC-AUC: Only one class present in y_true. ROC AUC score is not defined in that case.\n"
     ]
    },
    {
     "name": "stderr",
     "output_type": "stream",
     "text": [
      "8it [00:12,  1.63s/it]"
     ]
    },
    {
     "name": "stdout",
     "output_type": "stream",
     "text": [
      "Abs ROC-AUC: Only one class present in y_true. ROC AUC score is not defined in that case.\n",
      "Sqr ROC-AUC: Only one class present in y_true. ROC AUC score is not defined in that case.\n"
     ]
    },
    {
     "name": "stderr",
     "output_type": "stream",
     "text": [
      "9it [00:14,  1.48s/it]"
     ]
    },
    {
     "name": "stdout",
     "output_type": "stream",
     "text": [
      "Abs ROC-AUC: Only one class present in y_true. ROC AUC score is not defined in that case.\n",
      "Sqr ROC-AUC: Only one class present in y_true. ROC AUC score is not defined in that case.\n"
     ]
    },
    {
     "name": "stderr",
     "output_type": "stream",
     "text": [
      "10it [00:15,  1.46s/it]"
     ]
    },
    {
     "name": "stdout",
     "output_type": "stream",
     "text": [
      "Abs ROC-AUC: Only one class present in y_true. ROC AUC score is not defined in that case.\n",
      "Sqr ROC-AUC: Only one class present in y_true. ROC AUC score is not defined in that case.\n"
     ]
    },
    {
     "name": "stderr",
     "output_type": "stream",
     "text": [
      "12it [00:18,  1.56s/it]"
     ]
    },
    {
     "name": "stdout",
     "output_type": "stream",
     "text": [
      "(134, 2304)\n",
      "(2010,)\n",
      "OC_SVM: OC_SVM: Number of features and targets are different\n",
      "-------------------- TEST RESULTS --------------------\n",
      "absolute_ROC_AUC_Score : 0.8222459047251738\n",
      "squared_ROC_AUC_Score : 0.7402024731578003\n",
      "aggregated_absolute_ROC_AUC_Score : 0.6800189749503835\n",
      "aggregated_square_ROC_AUC_Score : 0.6803341066351982\n",
      "-------------------- TEST RESULTS --------------------\n"
     ]
    },
    {
     "name": "stderr",
     "output_type": "stream",
     "text": [
      "\n"
     ]
    },
    {
     "data": {
      "text/plain": [
       "<Figure size 432x288 with 0 Axes>"
      ]
     },
     "metadata": {},
     "output_type": "display_data"
    }
   ],
   "source": [
    "tester = AutoEncoder_Tester(\n",
    "    model,\n",
    "    test_data,\n",
    "    patchwise=True\n",
    ")\n",
    "results = tester.test(stackFrames=16, isVideo = True, save_as = \".pkl\".join(model_path.split(\".pth.tar\")))"
   ]
  },
  {
   "cell_type": "code",
   "execution_count": 7,
   "metadata": {},
   "outputs": [
    {
     "name": "stderr",
     "output_type": "stream",
     "text": [
      "7it [00:11,  1.61s/it]"
     ]
    },
    {
     "name": "stdout",
     "output_type": "stream",
     "text": [
      "Abs ROC-AUC: Only one class present in y_true. ROC AUC score is not defined in that case.\n",
      "Sqr ROC-AUC: Only one class present in y_true. ROC AUC score is not defined in that case.\n"
     ]
    },
    {
     "name": "stderr",
     "output_type": "stream",
     "text": [
      "8it [00:12,  1.62s/it]"
     ]
    },
    {
     "name": "stdout",
     "output_type": "stream",
     "text": [
      "Abs ROC-AUC: Only one class present in y_true. ROC AUC score is not defined in that case.\n",
      "Sqr ROC-AUC: Only one class present in y_true. ROC AUC score is not defined in that case.\n"
     ]
    },
    {
     "name": "stderr",
     "output_type": "stream",
     "text": [
      "9it [00:13,  1.48s/it]"
     ]
    },
    {
     "name": "stdout",
     "output_type": "stream",
     "text": [
      "Abs ROC-AUC: Only one class present in y_true. ROC AUC score is not defined in that case.\n",
      "Sqr ROC-AUC: Only one class present in y_true. ROC AUC score is not defined in that case.\n"
     ]
    },
    {
     "name": "stderr",
     "output_type": "stream",
     "text": [
      "10it [00:15,  1.45s/it]"
     ]
    },
    {
     "name": "stdout",
     "output_type": "stream",
     "text": [
      "Abs ROC-AUC: Only one class present in y_true. ROC AUC score is not defined in that case.\n",
      "Sqr ROC-AUC: Only one class present in y_true. ROC AUC score is not defined in that case.\n"
     ]
    },
    {
     "name": "stderr",
     "output_type": "stream",
     "text": [
      "12it [00:18,  1.55s/it]"
     ]
    },
    {
     "name": "stdout",
     "output_type": "stream",
     "text": [
      "(134, 2304)\n",
      "(2010,)\n",
      "OC_SVM: OC_SVM: Number of features and targets are different\n",
      "-------------------- TEST RESULTS --------------------\n",
      "absolute_ROC_AUC_Score : 0.8198996788041188\n",
      "squared_ROC_AUC_Score : 0.7305513638113407\n",
      "aggregated_absolute_ROC_AUC_Score : 0.6511535752025361\n",
      "aggregated_square_ROC_AUC_Score : 0.6594135258893977\n",
      "-------------------- TEST RESULTS --------------------\n"
     ]
    },
    {
     "name": "stderr",
     "output_type": "stream",
     "text": [
      "\n"
     ]
    },
    {
     "data": {
      "text/plain": [
       "<Figure size 432x288 with 0 Axes>"
      ]
     },
     "metadata": {},
     "output_type": "display_data"
    }
   ],
   "source": [
    "tester = AutoEncoder_Tester(\n",
    "    model,\n",
    "    test_data,\n",
    "    patchwise=True\n",
    ")\n",
    "results = tester.test(stackFrames=16, isVideo = True, save_as = \".pkl\".join(model_path.split(\".pth.tar\")))"
   ]
  },
  {
   "cell_type": "code",
   "execution_count": 8,
   "metadata": {},
   "outputs": [],
   "source": [
    "exit()"
   ]
  },
  {
   "cell_type": "code",
   "execution_count": null,
   "metadata": {},
   "outputs": [],
   "source": []
  }
 ],
 "metadata": {
  "kernelspec": {
   "display_name": "Python 3",
   "language": "python",
   "name": "python3"
  },
  "language_info": {
   "codemirror_mode": {
    "name": "ipython",
    "version": 3
   },
   "file_extension": ".py",
   "mimetype": "text/x-python",
   "name": "python",
   "nbconvert_exporter": "python",
   "pygments_lexer": "ipython3",
   "version": "3.6.9"
  }
 },
 "nbformat": 4,
 "nbformat_minor": 4
}
