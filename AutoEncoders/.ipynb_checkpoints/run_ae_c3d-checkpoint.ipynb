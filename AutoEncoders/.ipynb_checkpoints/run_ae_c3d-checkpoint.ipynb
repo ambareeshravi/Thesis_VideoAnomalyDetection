{
 "cells": [
  {
   "cell_type": "code",
   "execution_count": null,
   "metadata": {},
   "outputs": [],
   "source": [
    "from C3D_Models import *"
   ]
  },
  {
   "cell_type": "code",
   "execution_count": 2,
   "metadata": {},
   "outputs": [],
   "source": [
    "from train_autoencoder import *"
   ]
  },
  {
   "cell_type": "code",
   "execution_count": 3,
   "metadata": {},
   "outputs": [],
   "source": [
    "models = [\n",
    "    C3D_AE_3x3(channels=1),\n",
    "    C3D_AE_Res_3x3(channels=1),\n",
    "    C3D2D_AE_3x3(channels=1)\n",
    "]\n",
    "\n",
    "model_files = [\n",
    "    \"C3D_AE_3x3\",\n",
    "    \"C3D_AE_Res_3x3\",\n",
    "    \"C3D2D_AE_3x3\"\n",
    "]\n",
    "\n",
    "model_files = [join_paths([\"C3D_AE_models/\", m+\"_L2_MSE_UCSD2\"]) for m in model_files]"
   ]
  },
  {
   "cell_type": "markdown",
   "metadata": {},
   "source": [
    "# Training"
   ]
  },
  {
   "cell_type": "code",
   "execution_count": 4,
   "metadata": {},
   "outputs": [],
   "source": [
    "optimizers = [ADAM(m) for m in models]\n",
    "loss_criterion = [MSE_LOSS() for m in models]"
   ]
  },
  {
   "cell_type": "code",
   "execution_count": 5,
   "metadata": {},
   "outputs": [
    {
     "name": "stderr",
     "output_type": "stream",
     "text": [
      "16it [01:30,  5.66s/it]\n"
     ]
    }
   ],
   "source": [
    "train_data = UCSD(2, asImages=False, n_frames=16)"
   ]
  },
  {
   "cell_type": "code",
   "execution_count": 6,
   "metadata": {},
   "outputs": [],
   "source": [
    "train_loader, val_loader = get_data_loaders(train_data, batch_size=12)"
   ]
  },
  {
   "cell_type": "code",
   "execution_count": 7,
   "metadata": {},
   "outputs": [],
   "source": [
    "trainer = AutoEncoder_Trainer(\n",
    "    models,\n",
    "    model_files,\n",
    "    train_loader, \n",
    "    val_loader,\n",
    "    optimizers,\n",
    "    loss_criterion,\n",
    "    epochs = 300\n",
    ")"
   ]
  },
  {
   "cell_type": "code",
   "execution_count": null,
   "metadata": {
    "collapsed": true,
    "jupyter": {
     "outputs_hidden": true
    }
   },
   "outputs": [
    {
     "name": "stdout",
     "output_type": "stream",
     "text": [
      "Estimated Time 125.97 hours | Will be completed by 2020-11-25 06:49:\n",
      "------------------------------------------------------------\n",
      "Epoch: [001/300] | time/epoch: 1516.70 seconds\n",
      "------------------------------------------------------------\n",
      "Model: C3D_AE_models/C3D_AE_3x3_L2_MSE_UCSD2/C3D_AE_3x3_L2_MSE_UCSD2.pth.tar\n",
      "                Loss\n",
      "Training    0.004695\n",
      "Validation  0.002760\n",
      "----------------------------------------\n",
      "Model: C3D_AE_models/C3D_AE_Res_3x3_L2_MSE_UCSD2/C3D_AE_Res_3x3_L2_MSE_UCSD2.pth.tar\n",
      "                Loss\n",
      "Training    0.005311\n",
      "Validation  0.001688\n",
      "----------------------------------------\n",
      "Model: C3D_AE_models/C3D2D_AE_3x3_L2_MSE_UCSD2/C3D2D_AE_3x3_L2_MSE_UCSD2.pth.tar\n",
      "                Loss\n",
      "Training    0.034467\n",
      "Validation  0.008665\n",
      "----------------------------------------\n",
      "------------------------------------------------------------\n",
      "Epoch: [002/300] | time/epoch: 1517.34 seconds\n",
      "------------------------------------------------------------\n",
      "Model: C3D_AE_models/C3D_AE_3x3_L2_MSE_UCSD2/C3D_AE_3x3_L2_MSE_UCSD2.pth.tar\n",
      "                Loss\n",
      "Training    0.001416\n",
      "Validation  0.001412\n",
      "----------------------------------------\n",
      "Model: C3D_AE_models/C3D_AE_Res_3x3_L2_MSE_UCSD2/C3D_AE_Res_3x3_L2_MSE_UCSD2.pth.tar\n",
      "                Loss\n",
      "Training    0.002214\n",
      "Validation  0.002282\n",
      "----------------------------------------\n",
      "Model: C3D_AE_models/C3D2D_AE_3x3_L2_MSE_UCSD2/C3D2D_AE_3x3_L2_MSE_UCSD2.pth.tar\n",
      "                Loss\n",
      "Training    0.005227\n",
      "Validation  0.002918\n",
      "----------------------------------------\n",
      "------------------------------------------------------------\n",
      "Epoch: [003/300] | time/epoch: 1517.23 seconds\n",
      "------------------------------------------------------------\n",
      "Model: C3D_AE_models/C3D_AE_3x3_L2_MSE_UCSD2/C3D_AE_3x3_L2_MSE_UCSD2.pth.tar\n",
      "             Loss -2   Loss -1    Loss *\n",
      "Training    0.004695  0.001416  0.001255\n",
      "Validation  0.002760  0.001412  0.001423\n",
      "----------------------------------------\n",
      "Model: C3D_AE_models/C3D_AE_Res_3x3_L2_MSE_UCSD2/C3D_AE_Res_3x3_L2_MSE_UCSD2.pth.tar\n",
      "             Loss -2   Loss -1    Loss *\n",
      "Training    0.005311  0.002214  0.001646\n",
      "Validation  0.001688  0.002282  0.001622\n",
      "----------------------------------------\n",
      "Model: C3D_AE_models/C3D2D_AE_3x3_L2_MSE_UCSD2/C3D2D_AE_3x3_L2_MSE_UCSD2.pth.tar\n",
      "             Loss -2   Loss -1    Loss *\n",
      "Training    0.034467  0.005227  0.001923\n",
      "Validation  0.008665  0.002918  0.001627\n",
      "----------------------------------------\n",
      "------------------------------------------------------------\n",
      "Epoch: [004/300] | time/epoch: 1517.37 seconds\n",
      "------------------------------------------------------------\n",
      "Model: C3D_AE_models/C3D_AE_3x3_L2_MSE_UCSD2/C3D_AE_3x3_L2_MSE_UCSD2.pth.tar\n",
      "             Loss -2   Loss -1    Loss *\n",
      "Training    0.001416  0.001255  0.001136\n",
      "Validation  0.001412  0.001423  0.001167\n",
      "----------------------------------------\n",
      "Model: C3D_AE_models/C3D_AE_Res_3x3_L2_MSE_UCSD2/C3D_AE_Res_3x3_L2_MSE_UCSD2.pth.tar\n",
      "             Loss -2   Loss -1    Loss *\n",
      "Training    0.002214  0.001646  0.001363\n",
      "Validation  0.002282  0.001622  0.001968\n",
      "----------------------------------------\n",
      "Model: C3D_AE_models/C3D2D_AE_3x3_L2_MSE_UCSD2/C3D2D_AE_3x3_L2_MSE_UCSD2.pth.tar\n",
      "             Loss -2   Loss -1    Loss *\n",
      "Training    0.005227  0.001923  0.001417\n",
      "Validation  0.002918  0.001627  0.001296\n",
      "----------------------------------------\n",
      "------------------------------------------------------------\n",
      "Epoch: [005/300] | time/epoch: 1517.29 seconds\n",
      "------------------------------------------------------------\n",
      "Model: C3D_AE_models/C3D_AE_3x3_L2_MSE_UCSD2/C3D_AE_3x3_L2_MSE_UCSD2.pth.tar\n",
      "             Loss -2   Loss -1    Loss *\n",
      "Training    0.001255  0.001136  0.001041\n",
      "Validation  0.001423  0.001167  0.001008\n",
      "----------------------------------------\n",
      "Model: C3D_AE_models/C3D_AE_Res_3x3_L2_MSE_UCSD2/C3D_AE_Res_3x3_L2_MSE_UCSD2.pth.tar\n",
      "             Loss -2   Loss -1    Loss *\n",
      "Training    0.001646  0.001363  0.001237\n",
      "Validation  0.001622  0.001968  0.001198\n",
      "----------------------------------------\n",
      "Model: C3D_AE_models/C3D2D_AE_3x3_L2_MSE_UCSD2/C3D2D_AE_3x3_L2_MSE_UCSD2.pth.tar\n",
      "             Loss -2   Loss -1    Loss *\n",
      "Training    0.001923  0.001417  0.001269\n",
      "Validation  0.001627  0.001296  0.001240\n",
      "----------------------------------------\n",
      "------------------------------------------------------------\n",
      "Epoch: [006/300] | time/epoch: 1516.44 seconds\n",
      "------------------------------------------------------------\n",
      "Model: C3D_AE_models/C3D_AE_3x3_L2_MSE_UCSD2/C3D_AE_3x3_L2_MSE_UCSD2.pth.tar\n",
      "             Loss -2   Loss -1    Loss *\n",
      "Training    0.001136  0.001041  0.000981\n",
      "Validation  0.001167  0.001008  0.000988\n",
      "----------------------------------------\n",
      "Model: C3D_AE_models/C3D_AE_Res_3x3_L2_MSE_UCSD2/C3D_AE_Res_3x3_L2_MSE_UCSD2.pth.tar\n",
      "             Loss -2   Loss -1    Loss *\n",
      "Training    0.001363  0.001237  0.001105\n",
      "Validation  0.001968  0.001198  0.001121\n",
      "----------------------------------------\n",
      "Model: C3D_AE_models/C3D2D_AE_3x3_L2_MSE_UCSD2/C3D2D_AE_3x3_L2_MSE_UCSD2.pth.tar\n",
      "             Loss -2   Loss -1    Loss *\n",
      "Training    0.001417  0.001269  0.001185\n",
      "Validation  0.001296  0.001240  0.001188\n",
      "----------------------------------------\n",
      "------------------------------------------------------------\n",
      "Epoch: [007/300] | time/epoch: 1514.64 seconds\n",
      "------------------------------------------------------------\n",
      "Model: C3D_AE_models/C3D_AE_3x3_L2_MSE_UCSD2/C3D_AE_3x3_L2_MSE_UCSD2.pth.tar\n",
      "             Loss -2   Loss -1    Loss *\n",
      "Training    0.001041  0.000981  0.000944\n",
      "Validation  0.001008  0.000988  0.001031\n",
      "----------------------------------------\n",
      "Model: C3D_AE_models/C3D_AE_Res_3x3_L2_MSE_UCSD2/C3D_AE_Res_3x3_L2_MSE_UCSD2.pth.tar\n",
      "             Loss -2   Loss -1    Loss *\n",
      "Training    0.001237  0.001105  0.001322\n",
      "Validation  0.001198  0.001121  0.001202\n",
      "----------------------------------------\n",
      "Model: C3D_AE_models/C3D2D_AE_3x3_L2_MSE_UCSD2/C3D2D_AE_3x3_L2_MSE_UCSD2.pth.tar\n",
      "             Loss -2   Loss -1    Loss *\n",
      "Training    0.001269  0.001185  0.001126\n",
      "Validation  0.001240  0.001188  0.001090\n",
      "----------------------------------------\n",
      "------------------------------------------------------------\n",
      "Epoch: [008/300] | time/epoch: 1514.98 seconds\n",
      "------------------------------------------------------------\n",
      "Model: C3D_AE_models/C3D_AE_3x3_L2_MSE_UCSD2/C3D_AE_3x3_L2_MSE_UCSD2.pth.tar\n",
      "             Loss -2   Loss -1    Loss *\n",
      "Training    0.000981  0.000944  0.000905\n",
      "Validation  0.000988  0.001031  0.000893\n",
      "----------------------------------------\n",
      "Model: C3D_AE_models/C3D_AE_Res_3x3_L2_MSE_UCSD2/C3D_AE_Res_3x3_L2_MSE_UCSD2.pth.tar\n",
      "             Loss -2   Loss -1    Loss *\n",
      "Training    0.001105  0.001322  0.001053\n",
      "Validation  0.001121  0.001202  0.001114\n",
      "----------------------------------------\n",
      "Model: C3D_AE_models/C3D2D_AE_3x3_L2_MSE_UCSD2/C3D2D_AE_3x3_L2_MSE_UCSD2.pth.tar\n",
      "             Loss -2   Loss -1    Loss *\n",
      "Training    0.001185  0.001126  0.001090\n",
      "Validation  0.001188  0.001090  0.001101\n",
      "----------------------------------------\n",
      "------------------------------------------------------------\n",
      "Epoch: [009/300] | time/epoch: 1513.62 seconds\n",
      "------------------------------------------------------------\n",
      "Model: C3D_AE_models/C3D_AE_3x3_L2_MSE_UCSD2/C3D_AE_3x3_L2_MSE_UCSD2.pth.tar\n",
      "             Loss -2   Loss -1    Loss *\n",
      "Training    0.000944  0.000905  0.000883\n",
      "Validation  0.001031  0.000893  0.000870\n",
      "----------------------------------------\n",
      "Model: C3D_AE_models/C3D_AE_Res_3x3_L2_MSE_UCSD2/C3D_AE_Res_3x3_L2_MSE_UCSD2.pth.tar\n",
      "             Loss -2   Loss -1    Loss *\n",
      "Training    0.001322  0.001053  0.000988\n",
      "Validation  0.001202  0.001114  0.000971\n",
      "----------------------------------------\n",
      "Model: C3D_AE_models/C3D2D_AE_3x3_L2_MSE_UCSD2/C3D2D_AE_3x3_L2_MSE_UCSD2.pth.tar\n",
      "             Loss -2   Loss -1    Loss *\n",
      "Training    0.001126  0.001090  0.001052\n",
      "Validation  0.001090  0.001101  0.001060\n",
      "----------------------------------------\n",
      "------------------------------------------------------------\n",
      "Epoch: [010/300] | time/epoch: 1513.68 seconds\n",
      "------------------------------------------------------------\n",
      "Model: C3D_AE_models/C3D_AE_3x3_L2_MSE_UCSD2/C3D_AE_3x3_L2_MSE_UCSD2.pth.tar\n",
      "             Loss -2   Loss -1    Loss *\n",
      "Training    0.000905  0.000883  0.000861\n",
      "Validation  0.000893  0.000870  0.000910\n",
      "----------------------------------------\n",
      "Model: C3D_AE_models/C3D_AE_Res_3x3_L2_MSE_UCSD2/C3D_AE_Res_3x3_L2_MSE_UCSD2.pth.tar\n",
      "             Loss -2   Loss -1    Loss *\n",
      "Training    0.001053  0.000988  0.000895\n",
      "Validation  0.001114  0.000971  0.000905\n",
      "----------------------------------------\n",
      "Model: C3D_AE_models/C3D2D_AE_3x3_L2_MSE_UCSD2/C3D2D_AE_3x3_L2_MSE_UCSD2.pth.tar\n",
      "             Loss -2   Loss -1    Loss *\n",
      "Training    0.001090  0.001052  0.001011\n",
      "Validation  0.001101  0.001060  0.000997\n",
      "----------------------------------------\n",
      "------------------------------------------------------------\n",
      "Epoch: [011/300] | time/epoch: 1513.00 seconds\n",
      "------------------------------------------------------------\n",
      "Model: C3D_AE_models/C3D_AE_3x3_L2_MSE_UCSD2/C3D_AE_3x3_L2_MSE_UCSD2.pth.tar\n",
      "             Loss -2   Loss -1    Loss *\n",
      "Training    0.000883  0.000861  0.000846\n",
      "Validation  0.000870  0.000910  0.000853\n",
      "----------------------------------------\n",
      "Model: C3D_AE_models/C3D_AE_Res_3x3_L2_MSE_UCSD2/C3D_AE_Res_3x3_L2_MSE_UCSD2.pth.tar\n",
      "             Loss -2   Loss -1    Loss *\n",
      "Training    0.000988  0.000895  0.000865\n",
      "Validation  0.000971  0.000905  0.000882\n",
      "----------------------------------------\n",
      "Model: C3D_AE_models/C3D2D_AE_3x3_L2_MSE_UCSD2/C3D2D_AE_3x3_L2_MSE_UCSD2.pth.tar\n",
      "             Loss -2   Loss -1    Loss *\n",
      "Training    0.001052  0.001011  0.000985\n",
      "Validation  0.001060  0.000997  0.000976\n",
      "----------------------------------------\n",
      "------------------------------------------------------------\n",
      "Epoch: [012/300] | time/epoch: 1511.26 seconds\n",
      "------------------------------------------------------------\n",
      "Model: C3D_AE_models/C3D_AE_3x3_L2_MSE_UCSD2/C3D_AE_3x3_L2_MSE_UCSD2.pth.tar\n",
      "             Loss -2   Loss -1    Loss *\n",
      "Training    0.000861  0.000846  0.000826\n",
      "Validation  0.000910  0.000853  0.000810\n",
      "----------------------------------------\n",
      "Model: C3D_AE_models/C3D_AE_Res_3x3_L2_MSE_UCSD2/C3D_AE_Res_3x3_L2_MSE_UCSD2.pth.tar\n",
      "             Loss -2   Loss -1    Loss *\n",
      "Training    0.000895  0.000865  0.000851\n",
      "Validation  0.000905  0.000882  0.000829\n",
      "----------------------------------------\n",
      "Model: C3D_AE_models/C3D2D_AE_3x3_L2_MSE_UCSD2/C3D2D_AE_3x3_L2_MSE_UCSD2.pth.tar\n",
      "             Loss -2   Loss -1    Loss *\n",
      "Training    0.001011  0.000985  0.000962\n",
      "Validation  0.000997  0.000976  0.001021\n",
      "----------------------------------------\n",
      "------------------------------------------------------------\n",
      "Epoch: [013/300] | time/epoch: 1509.67 seconds\n",
      "------------------------------------------------------------\n",
      "Model: C3D_AE_models/C3D_AE_3x3_L2_MSE_UCSD2/C3D_AE_3x3_L2_MSE_UCSD2.pth.tar\n",
      "             Loss -2   Loss -1    Loss *\n",
      "Training    0.000846  0.000826  0.000820\n",
      "Validation  0.000853  0.000810  0.000899\n",
      "----------------------------------------\n",
      "Model: C3D_AE_models/C3D_AE_Res_3x3_L2_MSE_UCSD2/C3D_AE_Res_3x3_L2_MSE_UCSD2.pth.tar\n",
      "             Loss -2   Loss -1    Loss *\n",
      "Training    0.000865  0.000851  0.000810\n",
      "Validation  0.000882  0.000829  0.000839\n",
      "----------------------------------------\n",
      "Model: C3D_AE_models/C3D2D_AE_3x3_L2_MSE_UCSD2/C3D2D_AE_3x3_L2_MSE_UCSD2.pth.tar\n",
      "             Loss -2   Loss -1    Loss *\n",
      "Training    0.000985  0.000962  0.001080\n",
      "Validation  0.000976  0.001021  0.000959\n",
      "----------------------------------------\n",
      "------------------------------------------------------------\n",
      "Epoch: [014/300] | time/epoch: 1507.96 seconds\n",
      "------------------------------------------------------------\n",
      "Model: C3D_AE_models/C3D_AE_3x3_L2_MSE_UCSD2/C3D_AE_3x3_L2_MSE_UCSD2.pth.tar\n",
      "             Loss -2   Loss -1    Loss *\n",
      "Training    0.000826  0.000820  0.000813\n",
      "Validation  0.000810  0.000899  0.000832\n",
      "----------------------------------------\n",
      "Model: C3D_AE_models/C3D_AE_Res_3x3_L2_MSE_UCSD2/C3D_AE_Res_3x3_L2_MSE_UCSD2.pth.tar\n",
      "             Loss -2   Loss -1    Loss *\n",
      "Training    0.000851  0.000810  0.000797\n",
      "Validation  0.000829  0.000839  0.000818\n",
      "----------------------------------------\n",
      "Model: C3D_AE_models/C3D2D_AE_3x3_L2_MSE_UCSD2/C3D2D_AE_3x3_L2_MSE_UCSD2.pth.tar\n",
      "             Loss -2   Loss -1    Loss *\n",
      "Training    0.000962  0.001080  0.000928\n",
      "Validation  0.001021  0.000959  0.000912\n",
      "----------------------------------------\n",
      "------------------------------------------------------------\n",
      "Epoch: [015/300] | time/epoch: 1506.34 seconds\n",
      "------------------------------------------------------------\n",
      "Model: C3D_AE_models/C3D_AE_3x3_L2_MSE_UCSD2/C3D_AE_3x3_L2_MSE_UCSD2.pth.tar\n",
      "             Loss -2   Loss -1    Loss *\n",
      "Training    0.000820  0.000813  0.000988\n",
      "Validation  0.000899  0.000832  0.001095\n",
      "----------------------------------------\n",
      "Model: C3D_AE_models/C3D_AE_Res_3x3_L2_MSE_UCSD2/C3D_AE_Res_3x3_L2_MSE_UCSD2.pth.tar\n",
      "             Loss -2   Loss -1    Loss *\n",
      "Training    0.000810  0.000797  0.000786\n",
      "Validation  0.000839  0.000818  0.000761\n",
      "----------------------------------------\n",
      "Model: C3D_AE_models/C3D2D_AE_3x3_L2_MSE_UCSD2/C3D2D_AE_3x3_L2_MSE_UCSD2.pth.tar\n",
      "             Loss -2   Loss -1    Loss *\n",
      "Training    0.001080  0.000928  0.000903\n",
      "Validation  0.000959  0.000912  0.000929\n",
      "----------------------------------------\n",
      "------------------------------------------------------------\n",
      "Epoch: [016/300] | time/epoch: 1503.94 seconds\n",
      "------------------------------------------------------------\n",
      "Model: C3D_AE_models/C3D_AE_3x3_L2_MSE_UCSD2/C3D_AE_3x3_L2_MSE_UCSD2.pth.tar\n",
      "             Loss -2   Loss -1    Loss *\n",
      "Training    0.000813  0.000988  0.000793\n",
      "Validation  0.000832  0.001095  0.000797\n",
      "----------------------------------------\n",
      "Model: C3D_AE_models/C3D_AE_Res_3x3_L2_MSE_UCSD2/C3D_AE_Res_3x3_L2_MSE_UCSD2.pth.tar\n",
      "             Loss -2   Loss -1    Loss *\n",
      "Training    0.000797  0.000786  0.000774\n",
      "Validation  0.000818  0.000761  0.000806\n",
      "----------------------------------------\n",
      "Model: C3D_AE_models/C3D2D_AE_3x3_L2_MSE_UCSD2/C3D2D_AE_3x3_L2_MSE_UCSD2.pth.tar\n",
      "             Loss -2   Loss -1    Loss *\n",
      "Training    0.000928  0.000903  0.000879\n",
      "Validation  0.000912  0.000929  0.000887\n",
      "----------------------------------------\n",
      "------------------------------------------------------------\n",
      "Epoch: [017/300] | time/epoch: 1502.70 seconds\n",
      "------------------------------------------------------------\n",
      "Model: C3D_AE_models/C3D_AE_3x3_L2_MSE_UCSD2/C3D_AE_3x3_L2_MSE_UCSD2.pth.tar\n",
      "             Loss -2   Loss -1    Loss *\n",
      "Training    0.000988  0.000793  0.000789\n",
      "Validation  0.001095  0.000797  0.000906\n",
      "----------------------------------------\n",
      "Model: C3D_AE_models/C3D_AE_Res_3x3_L2_MSE_UCSD2/C3D_AE_Res_3x3_L2_MSE_UCSD2.pth.tar\n",
      "             Loss -2   Loss -1    Loss *\n",
      "Training    0.000786  0.000774  0.000763\n",
      "Validation  0.000761  0.000806  0.000784\n",
      "----------------------------------------\n",
      "Model: C3D_AE_models/C3D2D_AE_3x3_L2_MSE_UCSD2/C3D2D_AE_3x3_L2_MSE_UCSD2.pth.tar\n",
      "             Loss -2   Loss -1    Loss *\n",
      "Training    0.000903  0.000879  0.000869\n",
      "Validation  0.000929  0.000887  0.000869\n",
      "----------------------------------------\n",
      "------------------------------------------------------------\n",
      "Epoch: [018/300] | time/epoch: 1503.19 seconds\n",
      "------------------------------------------------------------\n",
      "Model: C3D_AE_models/C3D_AE_3x3_L2_MSE_UCSD2/C3D_AE_3x3_L2_MSE_UCSD2.pth.tar\n",
      "             Loss -2   Loss -1    Loss *\n",
      "Training    0.000793  0.000789  0.000784\n",
      "Validation  0.000797  0.000906  0.000799\n",
      "----------------------------------------\n",
      "Model: C3D_AE_models/C3D_AE_Res_3x3_L2_MSE_UCSD2/C3D_AE_Res_3x3_L2_MSE_UCSD2.pth.tar\n",
      "             Loss -2   Loss -1    Loss *\n",
      "Training    0.000774  0.000763  0.000764\n",
      "Validation  0.000806  0.000784  0.000774\n",
      "----------------------------------------\n",
      "Model: C3D_AE_models/C3D2D_AE_3x3_L2_MSE_UCSD2/C3D2D_AE_3x3_L2_MSE_UCSD2.pth.tar\n",
      "             Loss -2   Loss -1    Loss *\n",
      "Training    0.000879  0.000869  0.000854\n",
      "Validation  0.000887  0.000869  0.000854\n",
      "----------------------------------------\n",
      "------------------------------------------------------------\n",
      "Epoch: [019/300] | time/epoch: 1501.07 seconds\n",
      "------------------------------------------------------------\n",
      "Model: C3D_AE_models/C3D_AE_3x3_L2_MSE_UCSD2/C3D_AE_3x3_L2_MSE_UCSD2.pth.tar\n",
      "             Loss -2   Loss -1    Loss *\n",
      "Training    0.000789  0.000784  0.000774\n",
      "Validation  0.000906  0.000799  0.000776\n",
      "----------------------------------------\n",
      "Model: C3D_AE_models/C3D_AE_Res_3x3_L2_MSE_UCSD2/C3D_AE_Res_3x3_L2_MSE_UCSD2.pth.tar\n",
      "             Loss -2   Loss -1    Loss *\n",
      "Training    0.000763  0.000764  0.000743\n",
      "Validation  0.000784  0.000774  0.000729\n",
      "----------------------------------------\n",
      "Model: C3D_AE_models/C3D2D_AE_3x3_L2_MSE_UCSD2/C3D2D_AE_3x3_L2_MSE_UCSD2.pth.tar\n",
      "             Loss -2   Loss -1    Loss *\n",
      "Training    0.000869  0.000854  0.000837\n",
      "Validation  0.000869  0.000854  0.000811\n",
      "----------------------------------------\n",
      "------------------------------------------------------------\n",
      "Epoch: [020/300] | time/epoch: 1501.93 seconds\n",
      "------------------------------------------------------------\n",
      "Model: C3D_AE_models/C3D_AE_3x3_L2_MSE_UCSD2/C3D_AE_3x3_L2_MSE_UCSD2.pth.tar\n",
      "             Loss -2   Loss -1    Loss *\n",
      "Training    0.000784  0.000774  0.000770\n",
      "Validation  0.000799  0.000776  0.000757\n",
      "----------------------------------------\n",
      "Model: C3D_AE_models/C3D_AE_Res_3x3_L2_MSE_UCSD2/C3D_AE_Res_3x3_L2_MSE_UCSD2.pth.tar\n",
      "             Loss -2   Loss -1    Loss *\n",
      "Training    0.000764  0.000743  0.000753\n",
      "Validation  0.000774  0.000729  0.000755\n",
      "----------------------------------------\n",
      "Model: C3D_AE_models/C3D2D_AE_3x3_L2_MSE_UCSD2/C3D2D_AE_3x3_L2_MSE_UCSD2.pth.tar\n",
      "             Loss -2   Loss -1    Loss *\n",
      "Training    0.000854  0.000837  0.000831\n",
      "Validation  0.000854  0.000811  0.000838\n",
      "----------------------------------------\n",
      "------------------------------------------------------------\n",
      "Epoch: [021/300] | time/epoch: 1499.42 seconds\n",
      "------------------------------------------------------------\n",
      "Model: C3D_AE_models/C3D_AE_3x3_L2_MSE_UCSD2/C3D_AE_3x3_L2_MSE_UCSD2.pth.tar\n",
      "             Loss -2   Loss -1    Loss *\n",
      "Training    0.000774  0.000770  0.000775\n",
      "Validation  0.000776  0.000757  0.000766\n",
      "----------------------------------------\n",
      "Model: C3D_AE_models/C3D_AE_Res_3x3_L2_MSE_UCSD2/C3D_AE_Res_3x3_L2_MSE_UCSD2.pth.tar\n",
      "             Loss -2   Loss -1    Loss *\n",
      "Training    0.000743  0.000753  0.000742\n",
      "Validation  0.000729  0.000755  0.000758\n",
      "----------------------------------------\n",
      "Model: C3D_AE_models/C3D2D_AE_3x3_L2_MSE_UCSD2/C3D2D_AE_3x3_L2_MSE_UCSD2.pth.tar\n",
      "             Loss -2   Loss -1    Loss *\n",
      "Training    0.000837  0.000831  0.000821\n",
      "Validation  0.000811  0.000838  0.000812\n",
      "----------------------------------------\n",
      "------------------------------------------------------------\n",
      "Epoch: [022/300] | time/epoch: 1498.49 seconds\n",
      "------------------------------------------------------------\n",
      "Model: C3D_AE_models/C3D_AE_3x3_L2_MSE_UCSD2/C3D_AE_3x3_L2_MSE_UCSD2.pth.tar\n",
      "             Loss -2   Loss -1    Loss *\n",
      "Training    0.000770  0.000775  0.000756\n",
      "Validation  0.000757  0.000766  0.000843\n",
      "----------------------------------------\n",
      "Model: C3D_AE_models/C3D_AE_Res_3x3_L2_MSE_UCSD2/C3D_AE_Res_3x3_L2_MSE_UCSD2.pth.tar\n",
      "             Loss -2   Loss -1    Loss *\n",
      "Training    0.000753  0.000742  0.000729\n",
      "Validation  0.000755  0.000758  0.000703\n",
      "----------------------------------------\n",
      "Model: C3D_AE_models/C3D2D_AE_3x3_L2_MSE_UCSD2/C3D2D_AE_3x3_L2_MSE_UCSD2.pth.tar\n",
      "             Loss -2   Loss -1    Loss *\n",
      "Training    0.000831  0.000821  0.000809\n",
      "Validation  0.000838  0.000812  0.000818\n",
      "----------------------------------------\n",
      "------------------------------------------------------------\n",
      "Epoch: [023/300] | time/epoch: 1498.18 seconds\n",
      "------------------------------------------------------------\n",
      "Model: C3D_AE_models/C3D_AE_3x3_L2_MSE_UCSD2/C3D_AE_3x3_L2_MSE_UCSD2.pth.tar\n",
      "             Loss -2   Loss -1    Loss *\n",
      "Training    0.000775  0.000756  0.000768\n",
      "Validation  0.000766  0.000843  0.001482\n",
      "----------------------------------------\n",
      "Model: C3D_AE_models/C3D_AE_Res_3x3_L2_MSE_UCSD2/C3D_AE_Res_3x3_L2_MSE_UCSD2.pth.tar\n",
      "             Loss -2   Loss -1    Loss *\n",
      "Training    0.000742  0.000729  0.000729\n",
      "Validation  0.000758  0.000703  0.000711\n",
      "----------------------------------------\n",
      "Model: C3D_AE_models/C3D2D_AE_3x3_L2_MSE_UCSD2/C3D2D_AE_3x3_L2_MSE_UCSD2.pth.tar\n",
      "             Loss -2   Loss -1    Loss *\n",
      "Training    0.000821  0.000809  0.000805\n",
      "Validation  0.000812  0.000818  0.000816\n",
      "----------------------------------------\n",
      "------------------------------------------------------------\n",
      "Epoch: [024/300] | time/epoch: 1498.15 seconds\n",
      "------------------------------------------------------------\n",
      "Model: C3D_AE_models/C3D_AE_3x3_L2_MSE_UCSD2/C3D_AE_3x3_L2_MSE_UCSD2.pth.tar\n",
      "             Loss -2   Loss -1    Loss *\n",
      "Training    0.000756  0.000768  0.000755\n",
      "Validation  0.000843  0.001482  0.000779\n",
      "----------------------------------------\n",
      "Model: C3D_AE_models/C3D_AE_Res_3x3_L2_MSE_UCSD2/C3D_AE_Res_3x3_L2_MSE_UCSD2.pth.tar\n",
      "             Loss -2   Loss -1    Loss *\n",
      "Training    0.000729  0.000729  0.000718\n",
      "Validation  0.000703  0.000711  0.000810\n",
      "----------------------------------------\n",
      "Model: C3D_AE_models/C3D2D_AE_3x3_L2_MSE_UCSD2/C3D2D_AE_3x3_L2_MSE_UCSD2.pth.tar\n",
      "             Loss -2   Loss -1    Loss *\n",
      "Training    0.000809  0.000805  0.000799\n",
      "Validation  0.000818  0.000816  0.000810\n",
      "----------------------------------------\n",
      "------------------------------------------------------------\n",
      "Epoch: [025/300] | time/epoch: 1498.11 seconds\n",
      "------------------------------------------------------------\n",
      "Model: C3D_AE_models/C3D_AE_3x3_L2_MSE_UCSD2/C3D_AE_3x3_L2_MSE_UCSD2.pth.tar\n",
      "             Loss -2   Loss -1    Loss *\n",
      "Training    0.000768  0.000755  0.000758\n",
      "Validation  0.001482  0.000779  0.000760\n",
      "----------------------------------------\n",
      "Model: C3D_AE_models/C3D_AE_Res_3x3_L2_MSE_UCSD2/C3D_AE_Res_3x3_L2_MSE_UCSD2.pth.tar\n",
      "             Loss -2   Loss -1    Loss *\n",
      "Training    0.000729  0.000718  0.000734\n",
      "Validation  0.000711  0.000810  0.000695\n",
      "----------------------------------------\n",
      "Model: C3D_AE_models/C3D2D_AE_3x3_L2_MSE_UCSD2/C3D2D_AE_3x3_L2_MSE_UCSD2.pth.tar\n",
      "             Loss -2   Loss -1    Loss *\n",
      "Training    0.000805  0.000799  0.000800\n",
      "Validation  0.000816  0.000810  0.001443\n",
      "----------------------------------------\n",
      "------------------------------------------------------------\n",
      "Epoch: [026/300] | time/epoch: 1497.71 seconds\n",
      "------------------------------------------------------------\n",
      "Model: C3D_AE_models/C3D_AE_3x3_L2_MSE_UCSD2/C3D_AE_3x3_L2_MSE_UCSD2.pth.tar\n",
      "             Loss -2   Loss -1    Loss *\n",
      "Training    0.000755  0.000758  0.000751\n",
      "Validation  0.000779  0.000760  0.000743\n",
      "----------------------------------------\n",
      "Model: C3D_AE_models/C3D_AE_Res_3x3_L2_MSE_UCSD2/C3D_AE_Res_3x3_L2_MSE_UCSD2.pth.tar\n",
      "             Loss -2   Loss -1    Loss *\n",
      "Training    0.000718  0.000734  0.000707\n",
      "Validation  0.000810  0.000695  0.000788\n",
      "----------------------------------------\n",
      "Model: C3D_AE_models/C3D2D_AE_3x3_L2_MSE_UCSD2/C3D2D_AE_3x3_L2_MSE_UCSD2.pth.tar\n",
      "             Loss -2   Loss -1    Loss *\n",
      "Training    0.000799  0.000800  0.000789\n",
      "Validation  0.000810  0.001443  0.000768\n",
      "----------------------------------------\n",
      "------------------------------------------------------------\n",
      "Epoch: [027/300] | time/epoch: 1496.89 seconds\n",
      "------------------------------------------------------------\n",
      "Model: C3D_AE_models/C3D_AE_3x3_L2_MSE_UCSD2/C3D_AE_3x3_L2_MSE_UCSD2.pth.tar\n",
      "             Loss -2   Loss -1    Loss *\n",
      "Training    0.000758  0.000751  0.000752\n",
      "Validation  0.000760  0.000743  0.000833\n",
      "----------------------------------------\n",
      "Model: C3D_AE_models/C3D_AE_Res_3x3_L2_MSE_UCSD2/C3D_AE_Res_3x3_L2_MSE_UCSD2.pth.tar\n",
      "             Loss -2   Loss -1    Loss *\n",
      "Training    0.000734  0.000707  0.000711\n",
      "Validation  0.000695  0.000788  0.000698\n",
      "----------------------------------------\n",
      "Model: C3D_AE_models/C3D2D_AE_3x3_L2_MSE_UCSD2/C3D2D_AE_3x3_L2_MSE_UCSD2.pth.tar\n",
      "             Loss -2   Loss -1    Loss *\n",
      "Training    0.000800  0.000789  0.000779\n",
      "Validation  0.001443  0.000768  0.000815\n",
      "----------------------------------------\n",
      "------------------------------------------------------------\n",
      "Epoch: [028/300] | time/epoch: 1497.13 seconds\n",
      "------------------------------------------------------------\n",
      "Model: C3D_AE_models/C3D_AE_3x3_L2_MSE_UCSD2/C3D_AE_3x3_L2_MSE_UCSD2.pth.tar\n",
      "             Loss -2   Loss -1    Loss *\n",
      "Training    0.000751  0.000752  0.000756\n",
      "Validation  0.000743  0.000833  0.000745\n",
      "----------------------------------------\n",
      "Model: C3D_AE_models/C3D_AE_Res_3x3_L2_MSE_UCSD2/C3D_AE_Res_3x3_L2_MSE_UCSD2.pth.tar\n",
      "             Loss -2   Loss -1    Loss *\n",
      "Training    0.000707  0.000711  0.000721\n",
      "Validation  0.000788  0.000698  0.000726\n",
      "----------------------------------------\n",
      "Model: C3D_AE_models/C3D2D_AE_3x3_L2_MSE_UCSD2/C3D2D_AE_3x3_L2_MSE_UCSD2.pth.tar\n",
      "             Loss -2   Loss -1    Loss *\n",
      "Training    0.000789  0.000779  0.000789\n",
      "Validation  0.000768  0.000815  0.000780\n",
      "----------------------------------------\n",
      "------------------------------------------------------------\n",
      "Epoch: [029/300] | time/epoch: 1496.66 seconds\n",
      "------------------------------------------------------------\n",
      "Model: C3D_AE_models/C3D_AE_3x3_L2_MSE_UCSD2/C3D_AE_3x3_L2_MSE_UCSD2.pth.tar\n",
      "             Loss -2   Loss -1    Loss *\n",
      "Training    0.000752  0.000756  0.000747\n",
      "Validation  0.000833  0.000745  0.000796\n",
      "----------------------------------------\n",
      "Model: C3D_AE_models/C3D_AE_Res_3x3_L2_MSE_UCSD2/C3D_AE_Res_3x3_L2_MSE_UCSD2.pth.tar\n",
      "             Loss -2   Loss -1    Loss *\n",
      "Training    0.000711  0.000721  0.000717\n",
      "Validation  0.000698  0.000726  0.000679\n",
      "----------------------------------------\n",
      "Model: C3D_AE_models/C3D2D_AE_3x3_L2_MSE_UCSD2/C3D2D_AE_3x3_L2_MSE_UCSD2.pth.tar\n",
      "             Loss -2   Loss -1   Loss *\n",
      "Training    0.000779  0.000789  0.00078\n",
      "Validation  0.000815  0.000780  0.00077\n",
      "----------------------------------------\n",
      "------------------------------------------------------------\n",
      "Epoch: [030/300] | time/epoch: 1496.89 seconds\n",
      "------------------------------------------------------------\n",
      "Model: C3D_AE_models/C3D_AE_3x3_L2_MSE_UCSD2/C3D_AE_3x3_L2_MSE_UCSD2.pth.tar\n",
      "             Loss -2   Loss -1    Loss *\n",
      "Training    0.000756  0.000747  0.000749\n",
      "Validation  0.000745  0.000796  0.000780\n",
      "----------------------------------------\n",
      "Model: C3D_AE_models/C3D_AE_Res_3x3_L2_MSE_UCSD2/C3D_AE_Res_3x3_L2_MSE_UCSD2.pth.tar\n",
      "             Loss -2   Loss -1    Loss *\n",
      "Training    0.000721  0.000717  0.000708\n",
      "Validation  0.000726  0.000679  0.000728\n",
      "----------------------------------------\n",
      "Model: C3D_AE_models/C3D2D_AE_3x3_L2_MSE_UCSD2/C3D2D_AE_3x3_L2_MSE_UCSD2.pth.tar\n",
      "             Loss -2  Loss -1    Loss *\n",
      "Training    0.000789  0.00078  0.000770\n",
      "Validation  0.000780  0.00077  0.000761\n",
      "----------------------------------------\n"
     ]
    }
   ],
   "source": [
    "trainer.train()"
   ]
  },
  {
   "cell_type": "code",
   "execution_count": 17,
   "metadata": {},
   "outputs": [
    {
     "name": "stdout",
     "output_type": "stream",
     "text": [
      "../models/../models/C3D_AE_models/C3D_AE_3x3_L2_MSE_UCSD2/C3D_AE_3x3_L2_MSE_UCSD2.pth.tar\n",
      "../models/../models/C3D_AE_models/C3D_AE_Res_3x3_L2_MSE_UCSD2/C3D_AE_Res_3x3_L2_MSE_UCSD2.pth.tar\n",
      "../models/../models/C3D_AE_models/C3D2D_AE_3x3_L2_MSE_UCSD2/C3D2D_AE_3x3_L2_MSE_UCSD2.pth.tar\n"
     ]
    }
   ],
   "source": [
    "for ae_model in trainer.autoencoder_models:\n",
    "    print(ae_model.model_file)\n",
    "    save_model(ae_model.model, ae_model.model_file)"
   ]
  },
  {
   "cell_type": "code",
   "execution_count": 4,
   "metadata": {},
   "outputs": [],
   "source": [
    "model_files = [\n",
    "    \"../models/C3D_AE_models/C3D_AE_3x3_L2_MSE_UCSD2/C3D_AE_3x3_L2_MSE_UCSD2.pth.tar\",\n",
    "    \"../models/C3D_AE_models/C3D_AE_Res_3x3_L2_MSE_UCSD2/C3D_AE_Res_3x3_L2_MSE_UCSD2.pth.tar\",\n",
    "    \"../models/C3D_AE_models/C3D2D_AE_3x3_L2_MSE_UCSD2/C3D2D_AE_3x3_L2_MSE_UCSD2.pth.tar\"\n",
    "]"
   ]
  },
  {
   "cell_type": "code",
   "execution_count": 5,
   "metadata": {},
   "outputs": [],
   "source": [
    "for model, model_file in zip(models, model_files):\n",
    "    load_model(model, model_file)"
   ]
  },
  {
   "cell_type": "code",
   "execution_count": 11,
   "metadata": {},
   "outputs": [
    {
     "name": "stdout",
     "output_type": "stream",
     "text": [
      "Training Done\n"
     ]
    }
   ],
   "source": [
    "print(\"Training Done\")"
   ]
  },
  {
   "cell_type": "markdown",
   "metadata": {},
   "source": [
    "# Testing"
   ]
  },
  {
   "cell_type": "code",
   "execution_count": 6,
   "metadata": {},
   "outputs": [],
   "source": [
    "import sys\n",
    "sys.path.append(\"..\")"
   ]
  },
  {
   "cell_type": "code",
   "execution_count": 7,
   "metadata": {},
   "outputs": [
    {
     "name": "stderr",
     "output_type": "stream",
     "text": [
      "12it [00:01,  6.88it/s]\n"
     ]
    }
   ],
   "source": [
    "test_data = UCSD(2, isTrain=False, sample_stride=1)"
   ]
  },
  {
   "cell_type": "code",
   "execution_count": 8,
   "metadata": {},
   "outputs": [],
   "source": [
    "from test_autoencoder import AutoEncoder_Tester"
   ]
  },
  {
   "cell_type": "code",
   "execution_count": 12,
   "metadata": {},
   "outputs": [
    {
     "name": "stderr",
     "output_type": "stream",
     "text": [
      "0it [00:00, ?it/s]"
     ]
    },
    {
     "name": "stdout",
     "output_type": "stream",
     "text": [
      "../models/C3D_AE_models/C3D_AE_3x3_L2_MSE_UCSD2/C3D_AE_3x3_L2_MSE_UCSD2.pth.tar\n"
     ]
    },
    {
     "name": "stderr",
     "output_type": "stream",
     "text": [
      "7it [00:14,  2.10s/it]"
     ]
    },
    {
     "name": "stdout",
     "output_type": "stream",
     "text": [
      "Calculation of AUC-ROC score Only one class present in y_true. ROC AUC score is not defined in that case.\n"
     ]
    },
    {
     "name": "stderr",
     "output_type": "stream",
     "text": [
      "8it [00:16,  2.13s/it]"
     ]
    },
    {
     "name": "stdout",
     "output_type": "stream",
     "text": [
      "Calculation of AUC-ROC score Only one class present in y_true. ROC AUC score is not defined in that case.\n"
     ]
    },
    {
     "name": "stderr",
     "output_type": "stream",
     "text": [
      "9it [00:18,  1.94s/it]"
     ]
    },
    {
     "name": "stdout",
     "output_type": "stream",
     "text": [
      "Calculation of AUC-ROC score Only one class present in y_true. ROC AUC score is not defined in that case.\n"
     ]
    },
    {
     "name": "stderr",
     "output_type": "stream",
     "text": [
      "10it [00:20,  1.91s/it]"
     ]
    },
    {
     "name": "stdout",
     "output_type": "stream",
     "text": [
      "Calculation of AUC-ROC score Only one class present in y_true. ROC AUC score is not defined in that case.\n"
     ]
    },
    {
     "name": "stderr",
     "output_type": "stream",
     "text": [
      "12it [00:24,  2.03s/it]\n",
      "0it [00:00, ?it/s]"
     ]
    },
    {
     "name": "stdout",
     "output_type": "stream",
     "text": [
      "OneCass SVM: Encodings shape: (134, 256), Targets shape: (2010,), OC_SVM Error: OC_SVM: Number of features and targets are different:\n",
      "-------------------- TEST RESULTS --------------------\n",
      "{'agg_abs_reg_aucroc': 0.7119408242338852,\n",
      " 'agg_sqr_reg_aucroc': 0.7193351532229658,\n",
      " 'mean_abs_vid_aucroc': 0.8073631621702236,\n",
      " 'mean_sqr_vid_aucroc': 0.7896156175413676,\n",
      " 'overall_abs_aucroc': 0.6010179640718563,\n",
      " 'overall_sqr_aucroc': 0.5852941176470587}\n",
      "======================================================\n",
      "----------------------------------------\n",
      "../models/C3D_AE_models/C3D_AE_Res_3x3_L2_MSE_UCSD2/C3D_AE_Res_3x3_L2_MSE_UCSD2.pth.tar\n"
     ]
    },
    {
     "name": "stderr",
     "output_type": "stream",
     "text": [
      "7it [00:15,  2.30s/it]"
     ]
    },
    {
     "name": "stdout",
     "output_type": "stream",
     "text": [
      "Calculation of AUC-ROC score Only one class present in y_true. ROC AUC score is not defined in that case.\n"
     ]
    },
    {
     "name": "stderr",
     "output_type": "stream",
     "text": [
      "8it [00:18,  2.33s/it]"
     ]
    },
    {
     "name": "stdout",
     "output_type": "stream",
     "text": [
      "Calculation of AUC-ROC score Only one class present in y_true. ROC AUC score is not defined in that case.\n"
     ]
    },
    {
     "name": "stderr",
     "output_type": "stream",
     "text": [
      "9it [00:19,  2.13s/it]"
     ]
    },
    {
     "name": "stdout",
     "output_type": "stream",
     "text": [
      "Calculation of AUC-ROC score Only one class present in y_true. ROC AUC score is not defined in that case.\n"
     ]
    },
    {
     "name": "stderr",
     "output_type": "stream",
     "text": [
      "10it [00:22,  2.12s/it]"
     ]
    },
    {
     "name": "stdout",
     "output_type": "stream",
     "text": [
      "Calculation of AUC-ROC score Only one class present in y_true. ROC AUC score is not defined in that case.\n"
     ]
    },
    {
     "name": "stderr",
     "output_type": "stream",
     "text": [
      "12it [00:26,  2.24s/it]\n",
      "0it [00:00, ?it/s]"
     ]
    },
    {
     "name": "stdout",
     "output_type": "stream",
     "text": [
      "OneCass SVM: Encodings shape: (134, 256), Targets shape: (2010,), OC_SVM Error: OC_SVM: Number of features and targets are different:\n",
      "-------------------- TEST RESULTS --------------------\n",
      "{'agg_abs_reg_aucroc': 0.7576047904191616,\n",
      " 'agg_sqr_reg_aucroc': 0.7080688622754491,\n",
      " 'mean_abs_vid_aucroc': 0.8428488632724154,\n",
      " 'mean_sqr_vid_aucroc': 0.7963589255186001,\n",
      " 'overall_abs_aucroc': 0.6077685804860866,\n",
      " 'overall_sqr_aucroc': 0.588568157802043}\n",
      "======================================================\n",
      "----------------------------------------\n",
      "../models/C3D_AE_models/C3D2D_AE_3x3_L2_MSE_UCSD2/C3D2D_AE_3x3_L2_MSE_UCSD2.pth.tar\n"
     ]
    },
    {
     "name": "stderr",
     "output_type": "stream",
     "text": [
      "7it [00:15,  2.18s/it]"
     ]
    },
    {
     "name": "stdout",
     "output_type": "stream",
     "text": [
      "Calculation of AUC-ROC score Only one class present in y_true. ROC AUC score is not defined in that case.\n"
     ]
    },
    {
     "name": "stderr",
     "output_type": "stream",
     "text": [
      "8it [00:17,  2.21s/it]"
     ]
    },
    {
     "name": "stdout",
     "output_type": "stream",
     "text": [
      "Calculation of AUC-ROC score Only one class present in y_true. ROC AUC score is not defined in that case.\n"
     ]
    },
    {
     "name": "stderr",
     "output_type": "stream",
     "text": [
      "9it [00:18,  2.01s/it]"
     ]
    },
    {
     "name": "stdout",
     "output_type": "stream",
     "text": [
      "Calculation of AUC-ROC score Only one class present in y_true. ROC AUC score is not defined in that case.\n"
     ]
    },
    {
     "name": "stderr",
     "output_type": "stream",
     "text": [
      "10it [00:20,  1.99s/it]"
     ]
    },
    {
     "name": "stdout",
     "output_type": "stream",
     "text": [
      "Calculation of AUC-ROC score Only one class present in y_true. ROC AUC score is not defined in that case.\n"
     ]
    },
    {
     "name": "stderr",
     "output_type": "stream",
     "text": [
      "12it [00:25,  2.11s/it]"
     ]
    },
    {
     "name": "stdout",
     "output_type": "stream",
     "text": [
      "OneCass SVM: Encodings shape: (134, 256), Targets shape: (2010,), OC_SVM Error: OC_SVM: Number of features and targets are different:\n",
      "-------------------- TEST RESULTS --------------------\n",
      "{'agg_abs_reg_aucroc': 0.728915991546319,\n",
      " 'agg_sqr_reg_aucroc': 0.7735945755547728,\n",
      " 'mean_abs_vid_aucroc': 0.8257594119529055,\n",
      " 'mean_sqr_vid_aucroc': 0.7931070787599174,\n",
      " 'overall_abs_aucroc': 0.6083814723494189,\n",
      " 'overall_sqr_aucroc': 0.6188886932018316}\n",
      "======================================================\n",
      "----------------------------------------\n"
     ]
    },
    {
     "name": "stderr",
     "output_type": "stream",
     "text": [
      "\n"
     ]
    },
    {
     "data": {
      "text/plain": [
       "<Figure size 432x288 with 0 Axes>"
      ]
     },
     "metadata": {},
     "output_type": "display_data"
    }
   ],
   "source": [
    "for ae_model, model_file in zip(models, model_files):\n",
    "    print(model_file)\n",
    "    tester = AutoEncoder_Tester(\n",
    "        ae_model,\n",
    "        test_data\n",
    "    )\n",
    "    tester.test(stackFrames = 16, isVideo = True, save_as = \".pkl\".join(model_file.split(\".pth.tar\")))\n",
    "    print(\"-\"*40)"
   ]
  },
  {
   "cell_type": "code",
   "execution_count": 13,
   "metadata": {},
   "outputs": [],
   "source": [
    "exit()"
   ]
  },
  {
   "cell_type": "code",
   "execution_count": null,
   "metadata": {},
   "outputs": [],
   "source": []
  }
 ],
 "metadata": {
  "kernelspec": {
   "display_name": "Python 3",
   "language": "python",
   "name": "python3"
  },
  "language_info": {
   "codemirror_mode": {
    "name": "ipython",
    "version": 3
   },
   "file_extension": ".py",
   "mimetype": "text/x-python",
   "name": "python",
   "nbconvert_exporter": "python",
   "pygments_lexer": "ipython3",
   "version": "3.6.9"
  }
 },
 "nbformat": 4,
 "nbformat_minor": 4
}
