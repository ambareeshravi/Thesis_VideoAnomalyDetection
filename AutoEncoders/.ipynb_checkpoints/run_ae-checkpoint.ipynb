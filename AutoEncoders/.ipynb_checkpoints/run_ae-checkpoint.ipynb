{
 "cells": [
  {
   "cell_type": "code",
   "execution_count": 1,
   "metadata": {},
   "outputs": [],
   "source": [
    "import sys\n",
    "sys.path.append(\"..\")"
   ]
  },
  {
   "cell_type": "code",
   "execution_count": 2,
   "metadata": {},
   "outputs": [],
   "source": [
    "from train_autoencoder import *\n",
    "from test_autoencoder import *"
   ]
  },
  {
   "cell_type": "code",
   "execution_count": 3,
   "metadata": {},
   "outputs": [],
   "source": [
    "from C2D_Models import *"
   ]
  },
  {
   "cell_type": "code",
   "execution_count": 4,
   "metadata": {},
   "outputs": [],
   "source": [
    "models = [\n",
    "#     C2D_AE_128_3x3(channels=1),\n",
    "    C2D_AE_128_3x3(channels=1),\n",
    "         ]\n",
    "\n",
    "model_names = [\n",
    "#     \"C2D_3x3_128_2xE_L2_FP\",\n",
    "    \"C2D_3x3_128_2xE_L2_HP\",\n",
    "]\n",
    "\n",
    "model_names = [join_paths([\"../../VAD_models/C2D_AE_models/128/experiments/half_precision/\", mn+\"_MSE_UCSD2\"]) for mn in model_names]    "
   ]
  },
  {
   "cell_type": "code",
   "execution_count": 10,
   "metadata": {},
   "outputs": [
    {
     "data": {
      "text/plain": [
       "<generator object Module.modules at 0x7fadd065c258>"
      ]
     },
     "execution_count": 10,
     "metadata": {},
     "output_type": "execute_result"
    }
   ],
   "source": [
    "models[-1].modules()"
   ]
  },
  {
   "cell_type": "code",
   "execution_count": 26,
   "metadata": {},
   "outputs": [
    {
     "name": "stdout",
     "output_type": "stream",
     "text": [
      "tensor(2.3145e-08) tensor(0., dtype=torch.float16)\n"
     ]
    }
   ],
   "source": [
    "n = 23145e-11\n",
    "print(torch.tensor(n), torch.tensor(n).half())"
   ]
  },
  {
   "cell_type": "markdown",
   "metadata": {},
   "source": [
    "# Training"
   ]
  },
  {
   "cell_type": "code",
   "execution_count": 5,
   "metadata": {},
   "outputs": [],
   "source": [
    "optimizers = [torch.optim.Adam(m.parameters(), eps = 1e-3) for m in models]\n",
    "losses = [MSE_LOSS() for m in models]"
   ]
  },
  {
   "cell_type": "code",
   "execution_count": 6,
   "metadata": {},
   "outputs": [
    {
     "name": "stderr",
     "output_type": "stream",
     "text": [
      "16it [00:02,  7.29it/s]\n"
     ]
    }
   ],
   "source": [
    "train_data = UCSD(2)"
   ]
  },
  {
   "cell_type": "code",
   "execution_count": 7,
   "metadata": {},
   "outputs": [],
   "source": [
    "train_loader, val_loader = get_data_loaders(train_data, batch_size=128)"
   ]
  },
  {
   "cell_type": "code",
   "execution_count": 8,
   "metadata": {},
   "outputs": [],
   "source": [
    "trainer = AutoEncoder_Trainer(\n",
    "    models,\n",
    "    model_names,\n",
    "    train_loader, \n",
    "    val_loader,\n",
    "    optimizers,\n",
    "    losses,\n",
    "    epochs = 300,\n",
    "    useHalfPrecision=True\n",
    ")"
   ]
  },
  {
   "cell_type": "code",
   "execution_count": null,
   "metadata": {},
   "outputs": [],
   "source": []
  },
  {
   "cell_type": "code",
   "execution_count": null,
   "metadata": {},
   "outputs": [
    {
     "name": "stdout",
     "output_type": "stream",
     "text": [
      "Estimated Time 0.17 hours | Will be completed by 2020-11-26 18:11:\n",
      "------------------------------------------------------------\n",
      "Epoch: [001/300] | time/epoch: 2.09 seconds\n",
      "------------------------------------------------------------\n",
      "Model: ../../VAD_models/C2D_AE_models/128/experiments/half_precision/C2D_3x3_128_2xE_L2_HP_MSE_UCSD2/C2D_3x3_128_2xE_L2_HP_MSE_UCSD2.pth.tar\n",
      "                Loss\n",
      "Training    0.072469\n",
      "Validation  0.043243\n",
      "----------------------------------------\n",
      "------------------------------------------------------------\n",
      "Epoch: [002/300] | time/epoch: 2.03 seconds\n",
      "------------------------------------------------------------\n",
      "Model: ../../VAD_models/C2D_AE_models/128/experiments/half_precision/C2D_3x3_128_2xE_L2_HP_MSE_UCSD2/C2D_3x3_128_2xE_L2_HP_MSE_UCSD2.pth.tar\n",
      "                Loss\n",
      "Training    0.072466\n",
      "Validation  0.047165\n",
      "----------------------------------------\n",
      "------------------------------------------------------------\n",
      "Epoch: [003/300] | time/epoch: 2.03 seconds\n",
      "------------------------------------------------------------\n",
      "Model: ../../VAD_models/C2D_AE_models/128/experiments/half_precision/C2D_3x3_128_2xE_L2_HP_MSE_UCSD2/C2D_3x3_128_2xE_L2_HP_MSE_UCSD2.pth.tar\n",
      "             Loss -2   Loss -1    Loss *\n",
      "Training    0.072469  0.072466  0.072466\n",
      "Validation  0.043243  0.047165  0.060944\n",
      "----------------------------------------\n",
      "------------------------------------------------------------\n",
      "Epoch: [004/300] | time/epoch: 2.03 seconds\n",
      "------------------------------------------------------------\n",
      "Model: ../../VAD_models/C2D_AE_models/128/experiments/half_precision/C2D_3x3_128_2xE_L2_HP_MSE_UCSD2/C2D_3x3_128_2xE_L2_HP_MSE_UCSD2.pth.tar\n",
      "             Loss -2   Loss -1    Loss *\n",
      "Training    0.072466  0.072466  0.072466\n",
      "Validation  0.047165  0.060944  0.068512\n",
      "----------------------------------------\n",
      "------------------------------------------------------------\n",
      "Epoch: [005/300] | time/epoch: 2.03 seconds\n",
      "------------------------------------------------------------\n",
      "Model: ../../VAD_models/C2D_AE_models/128/experiments/half_precision/C2D_3x3_128_2xE_L2_HP_MSE_UCSD2/C2D_3x3_128_2xE_L2_HP_MSE_UCSD2.pth.tar\n",
      "             Loss -2   Loss -1    Loss *\n",
      "Training    0.072466  0.072466  0.072466\n",
      "Validation  0.060944  0.068512  0.071411\n",
      "----------------------------------------\n",
      "------------------------------------------------------------\n",
      "Epoch: [006/300] | time/epoch: 2.04 seconds\n",
      "------------------------------------------------------------\n",
      "Model: ../../VAD_models/C2D_AE_models/128/experiments/half_precision/C2D_3x3_128_2xE_L2_HP_MSE_UCSD2/C2D_3x3_128_2xE_L2_HP_MSE_UCSD2.pth.tar\n",
      "             Loss -2   Loss -1    Loss *\n",
      "Training    0.072466  0.072466  0.072469\n",
      "Validation  0.068512  0.071411  0.072235\n",
      "----------------------------------------\n",
      "------------------------------------------------------------\n",
      "Epoch: [007/300] | time/epoch: 2.03 seconds\n",
      "------------------------------------------------------------\n",
      "Model: ../../VAD_models/C2D_AE_models/128/experiments/half_precision/C2D_3x3_128_2xE_L2_HP_MSE_UCSD2/C2D_3x3_128_2xE_L2_HP_MSE_UCSD2.pth.tar\n",
      "             Loss -2   Loss -1    Loss *\n",
      "Training    0.072466  0.072469  0.072462\n",
      "Validation  0.071411  0.072235  0.072235\n",
      "----------------------------------------\n",
      "------------------------------------------------------------\n",
      "Epoch: [008/300] | time/epoch: 2.03 seconds\n",
      "------------------------------------------------------------\n",
      "Model: ../../VAD_models/C2D_AE_models/128/experiments/half_precision/C2D_3x3_128_2xE_L2_HP_MSE_UCSD2/C2D_3x3_128_2xE_L2_HP_MSE_UCSD2.pth.tar\n",
      "             Loss -2   Loss -1    Loss *\n",
      "Training    0.072469  0.072462  0.072462\n",
      "Validation  0.072235  0.072235  0.072357\n",
      "----------------------------------------\n"
     ]
    }
   ],
   "source": [
    "trainer.train()"
   ]
  },
  {
   "cell_type": "code",
   "execution_count": null,
   "metadata": {},
   "outputs": [],
   "source": [
    "for ae_model in trainer.autoencoder_models:\n",
    "    save_model(ae_model.model, ae_model.model_file)"
   ]
  },
  {
   "cell_type": "code",
   "execution_count": null,
   "metadata": {},
   "outputs": [],
   "source": [
    "print(\"Training done\")"
   ]
  },
  {
   "cell_type": "code",
   "execution_count": null,
   "metadata": {},
   "outputs": [],
   "source": []
  },
  {
   "cell_type": "markdown",
   "metadata": {},
   "source": [
    "# Testing"
   ]
  },
  {
   "cell_type": "code",
   "execution_count": null,
   "metadata": {},
   "outputs": [],
   "source": [
    "test_data = UCSD(2, isTrain=False, sample_stride = 1)"
   ]
  },
  {
   "cell_type": "code",
   "execution_count": null,
   "metadata": {},
   "outputs": [],
   "source": [
    "for ae_model in trainer.autoencoder_models:\n",
    "    print(\"-\"*40)\n",
    "    print(ae_model.model_file)\n",
    "    tester = AutoEncoder_Tester(\n",
    "        ae_model.model,\n",
    "        test_data,\n",
    "    )\n",
    "    results = tester.test(save_as = \".pkl\".join(ae_model.model_file.split(\".pth.tar\")))\n",
    "    print(\"=\"*40)"
   ]
  },
  {
   "cell_type": "code",
   "execution_count": null,
   "metadata": {},
   "outputs": [],
   "source": [
    "try:\n",
    "    del test_data\n",
    "except:\n",
    "    pass\n",
    "test_data = UCSD(2, isTrain=False, sample_stride = 1, useCorrectedAnnotations = False)"
   ]
  },
  {
   "cell_type": "code",
   "execution_count": 10,
   "metadata": {},
   "outputs": [
    {
     "name": "stdout",
     "output_type": "stream",
     "text": [
      "----------------------------------------\n",
      "../../VAD_models/C2D_AE_models/128/experiments/half_precision/C2D_3x3_128_2xE_L2_HP_MSE_UCSD2/C2D_3x3_128_2xE_L2_HP_MSE_UCSD2.pth.tar\n"
     ]
    },
    {
     "ename": "NameError",
     "evalue": "name 'test_data' is not defined",
     "output_type": "error",
     "traceback": [
      "\u001b[0;31m---------------------------------------------------------------------------\u001b[0m",
      "\u001b[0;31mNameError\u001b[0m                                 Traceback (most recent call last)",
      "\u001b[0;32m<ipython-input-10-c68820a25acc>\u001b[0m in \u001b[0;36m<module>\u001b[0;34m\u001b[0m\n\u001b[1;32m      4\u001b[0m     tester = AutoEncoder_Tester(\n\u001b[1;32m      5\u001b[0m         \u001b[0mae_model\u001b[0m\u001b[0;34m.\u001b[0m\u001b[0mmodel\u001b[0m\u001b[0;34m,\u001b[0m\u001b[0;34m\u001b[0m\u001b[0;34m\u001b[0m\u001b[0m\n\u001b[0;32m----> 6\u001b[0;31m         \u001b[0mtest_data\u001b[0m\u001b[0;34m,\u001b[0m\u001b[0;34m\u001b[0m\u001b[0;34m\u001b[0m\u001b[0m\n\u001b[0m\u001b[1;32m      7\u001b[0m     )\n\u001b[1;32m      8\u001b[0m     \u001b[0mresults\u001b[0m \u001b[0;34m=\u001b[0m \u001b[0mtester\u001b[0m\u001b[0;34m.\u001b[0m\u001b[0mtest\u001b[0m\u001b[0;34m(\u001b[0m\u001b[0msave_as\u001b[0m \u001b[0;34m=\u001b[0m \u001b[0;34m\".pkl\"\u001b[0m\u001b[0;34m.\u001b[0m\u001b[0mjoin\u001b[0m\u001b[0;34m(\u001b[0m\u001b[0mae_model\u001b[0m\u001b[0;34m.\u001b[0m\u001b[0mmodel_file\u001b[0m\u001b[0;34m.\u001b[0m\u001b[0msplit\u001b[0m\u001b[0;34m(\u001b[0m\u001b[0;34m\".pth.tar\"\u001b[0m\u001b[0;34m)\u001b[0m\u001b[0;34m)\u001b[0m\u001b[0;34m)\u001b[0m\u001b[0;34m\u001b[0m\u001b[0;34m\u001b[0m\u001b[0m\n",
      "\u001b[0;31mNameError\u001b[0m: name 'test_data' is not defined"
     ]
    }
   ],
   "source": [
    "for ae_model in trainer.autoencoder_models:\n",
    "    print(\"-\"*40)\n",
    "    print(ae_model.model_file)\n",
    "    tester = AutoEncoder_Tester(\n",
    "        ae_model.model,\n",
    "        test_data,\n",
    "    )\n",
    "    results = tester.test(save_as = \".pkl\".join(ae_model.model_file.split(\".pth.tar\")))\n",
    "    print(\"=\"*40)"
   ]
  },
  {
   "cell_type": "code",
   "execution_count": 18,
   "metadata": {},
   "outputs": [],
   "source": [
    "exit()"
   ]
  },
  {
   "cell_type": "code",
   "execution_count": null,
   "metadata": {},
   "outputs": [],
   "source": []
  },
  {
   "cell_type": "code",
   "execution_count": 15,
   "metadata": {},
   "outputs": [
    {
     "name": "stderr",
     "output_type": "stream",
     "text": [
      "0it [00:00, ?it/s]"
     ]
    },
    {
     "name": "stdout",
     "output_type": "stream",
     "text": [
      "----------------------------------------\n",
      "../../VAD_models/C2D_AE_models/128/experiments/weight_init/C2D_3x3_128_2xE_L2_MSE_UCSD2/C2D_3x3_128_2xE_L2_MSE_UCSD2.pth.tar\n"
     ]
    },
    {
     "name": "stderr",
     "output_type": "stream",
     "text": [
      "7it [00:14,  2.08s/it]"
     ]
    },
    {
     "name": "stdout",
     "output_type": "stream",
     "text": [
      "Calculation of AUC-ROC score Only one class present in y_true. ROC AUC score is not defined in that case.\n"
     ]
    },
    {
     "name": "stderr",
     "output_type": "stream",
     "text": [
      "8it [00:16,  2.09s/it]"
     ]
    },
    {
     "name": "stdout",
     "output_type": "stream",
     "text": [
      "Calculation of AUC-ROC score Only one class present in y_true. ROC AUC score is not defined in that case.\n"
     ]
    },
    {
     "name": "stderr",
     "output_type": "stream",
     "text": [
      "9it [00:17,  1.91s/it]"
     ]
    },
    {
     "name": "stdout",
     "output_type": "stream",
     "text": [
      "Calculation of AUC-ROC score Only one class present in y_true. ROC AUC score is not defined in that case.\n"
     ]
    },
    {
     "name": "stderr",
     "output_type": "stream",
     "text": [
      "10it [00:19,  1.87s/it]"
     ]
    },
    {
     "name": "stdout",
     "output_type": "stream",
     "text": [
      "Calculation of AUC-ROC score Only one class present in y_true. ROC AUC score is not defined in that case.\n"
     ]
    },
    {
     "name": "stderr",
     "output_type": "stream",
     "text": [
      "12it [00:23,  2.00s/it]\n",
      "0it [00:00, ?it/s]"
     ]
    },
    {
     "name": "stdout",
     "output_type": "stream",
     "text": [
      "AUC-ROC Score of  OneClassSVM: 0.461060232476224\n",
      "-------------------- TEST RESULTS --------------------\n",
      "{'agg_abs_reg_aucroc': 0.8640542444522719,\n",
      " 'agg_sqr_reg_aucroc': 0.8419223318069743,\n",
      " 'mean_abs_vid_aucroc': 0.8966140761970254,\n",
      " 'mean_sqr_vid_aucroc': 0.8416688941490238,\n",
      " 'overall_abs_aucroc': 0.6628883409651285,\n",
      " 'overall_sqr_aucroc': 0.6535558295174356}\n",
      "======================================================\n",
      "========================================\n",
      "----------------------------------------\n",
      "../../VAD_models/C2D_AE_models/128/experiments/weight_init/C2D_3x3_128_2xE_L2_WI_MSE_UCSD2/C2D_3x3_128_2xE_L2_WI_MSE_UCSD2.pth.tar\n"
     ]
    },
    {
     "name": "stderr",
     "output_type": "stream",
     "text": [
      "7it [00:14,  2.06s/it]"
     ]
    },
    {
     "name": "stdout",
     "output_type": "stream",
     "text": [
      "Calculation of AUC-ROC score Only one class present in y_true. ROC AUC score is not defined in that case.\n"
     ]
    },
    {
     "name": "stderr",
     "output_type": "stream",
     "text": [
      "8it [00:16,  2.08s/it]"
     ]
    },
    {
     "name": "stdout",
     "output_type": "stream",
     "text": [
      "Calculation of AUC-ROC score Only one class present in y_true. ROC AUC score is not defined in that case.\n"
     ]
    },
    {
     "name": "stderr",
     "output_type": "stream",
     "text": [
      "9it [00:17,  1.90s/it]"
     ]
    },
    {
     "name": "stdout",
     "output_type": "stream",
     "text": [
      "Calculation of AUC-ROC score Only one class present in y_true. ROC AUC score is not defined in that case.\n"
     ]
    },
    {
     "name": "stderr",
     "output_type": "stream",
     "text": [
      "10it [00:19,  1.87s/it]"
     ]
    },
    {
     "name": "stdout",
     "output_type": "stream",
     "text": [
      "Calculation of AUC-ROC score Only one class present in y_true. ROC AUC score is not defined in that case.\n"
     ]
    },
    {
     "name": "stderr",
     "output_type": "stream",
     "text": [
      "12it [00:23,  1.99s/it]\n"
     ]
    },
    {
     "name": "stdout",
     "output_type": "stream",
     "text": [
      "AUC-ROC Score of  OneClassSVM: 0.39646882705177877\n",
      "-------------------- TEST RESULTS --------------------\n",
      "{'agg_abs_reg_aucroc': 0.8580530116238112,\n",
      " 'agg_sqr_reg_aucroc': 0.84510919337795,\n",
      " 'mean_abs_vid_aucroc': 0.9180431305528539,\n",
      " 'mean_sqr_vid_aucroc': 0.8343003075647294,\n",
      " 'overall_abs_aucroc': 0.6748274040154983,\n",
      " 'overall_sqr_aucroc': 0.6593571680169074}\n",
      "======================================================\n",
      "========================================\n"
     ]
    },
    {
     "data": {
      "text/plain": [
       "<Figure size 432x288 with 0 Axes>"
      ]
     },
     "metadata": {},
     "output_type": "display_data"
    }
   ],
   "source": [
    "for ae_model in trainer.autoencoder_models:\n",
    "    print(\"-\"*40)\n",
    "    print(ae_model.model_file)\n",
    "    tester = AutoEncoder_Tester(\n",
    "        ae_model.model,\n",
    "        test_data,\n",
    "    )\n",
    "    results = tester.test(save_as = \".pkl\".join(ae_model.model_file.split(\".pth.tar\")))\n",
    "    print(\"=\"*40)"
   ]
  },
  {
   "cell_type": "code",
   "execution_count": 19,
   "metadata": {},
   "outputs": [
    {
     "name": "stderr",
     "output_type": "stream",
     "text": [
      "0it [00:00, ?it/s]"
     ]
    },
    {
     "name": "stdout",
     "output_type": "stream",
     "text": [
      "----------------------------------------\n",
      "../../VAD_models/C2D_AE_models/128/experiments/weight_init/C2D_3x3_128_2xE_L2_MSE_UCSD2/C2D_3x3_128_2xE_L2_MSE_UCSD2.pth.tar\n"
     ]
    },
    {
     "name": "stderr",
     "output_type": "stream",
     "text": [
      "7it [00:14,  2.08s/it]"
     ]
    },
    {
     "name": "stdout",
     "output_type": "stream",
     "text": [
      "Calculation of AUC-ROC score Only one class present in y_true. ROC AUC score is not defined in that case.\n"
     ]
    },
    {
     "name": "stderr",
     "output_type": "stream",
     "text": [
      "8it [00:16,  2.09s/it]"
     ]
    },
    {
     "name": "stdout",
     "output_type": "stream",
     "text": [
      "Calculation of AUC-ROC score Only one class present in y_true. ROC AUC score is not defined in that case.\n"
     ]
    },
    {
     "name": "stderr",
     "output_type": "stream",
     "text": [
      "9it [00:18,  1.91s/it]"
     ]
    },
    {
     "name": "stdout",
     "output_type": "stream",
     "text": [
      "Calculation of AUC-ROC score Only one class present in y_true. ROC AUC score is not defined in that case.\n"
     ]
    },
    {
     "name": "stderr",
     "output_type": "stream",
     "text": [
      "10it [00:19,  1.88s/it]"
     ]
    },
    {
     "name": "stdout",
     "output_type": "stream",
     "text": [
      "Calculation of AUC-ROC score Only one class present in y_true. ROC AUC score is not defined in that case.\n"
     ]
    },
    {
     "name": "stderr",
     "output_type": "stream",
     "text": [
      "12it [00:24,  2.00s/it]\n",
      "0it [00:00, ?it/s]"
     ]
    },
    {
     "name": "stdout",
     "output_type": "stream",
     "text": [
      "AUC-ROC Score of  OneClassSVM: 0.4831538647213431\n",
      "-------------------- TEST RESULTS --------------------\n",
      "{'agg_abs_reg_aucroc': 0.8661637410824438,\n",
      " 'agg_sqr_reg_aucroc': 0.8392015434747626,\n",
      " 'mean_abs_vid_aucroc': 0.8995628838026245,\n",
      " 'mean_sqr_vid_aucroc': 0.8447251985836959,\n",
      " 'overall_abs_aucroc': 0.6913083999356326,\n",
      " 'overall_sqr_aucroc': 0.6763748457866223}\n",
      "======================================================\n",
      "========================================\n",
      "----------------------------------------\n",
      "../../VAD_models/C2D_AE_models/128/experiments/weight_init/C2D_3x3_128_2xE_L2_WI_MSE_UCSD2/C2D_3x3_128_2xE_L2_WI_MSE_UCSD2.pth.tar\n"
     ]
    },
    {
     "name": "stderr",
     "output_type": "stream",
     "text": [
      "7it [00:14,  2.07s/it]"
     ]
    },
    {
     "name": "stdout",
     "output_type": "stream",
     "text": [
      "Calculation of AUC-ROC score Only one class present in y_true. ROC AUC score is not defined in that case.\n"
     ]
    },
    {
     "name": "stderr",
     "output_type": "stream",
     "text": [
      "8it [00:16,  2.09s/it]"
     ]
    },
    {
     "name": "stdout",
     "output_type": "stream",
     "text": [
      "Calculation of AUC-ROC score Only one class present in y_true. ROC AUC score is not defined in that case.\n"
     ]
    },
    {
     "name": "stderr",
     "output_type": "stream",
     "text": [
      "9it [00:17,  1.90s/it]"
     ]
    },
    {
     "name": "stdout",
     "output_type": "stream",
     "text": [
      "Calculation of AUC-ROC score Only one class present in y_true. ROC AUC score is not defined in that case.\n"
     ]
    },
    {
     "name": "stderr",
     "output_type": "stream",
     "text": [
      "10it [00:19,  1.88s/it]"
     ]
    },
    {
     "name": "stdout",
     "output_type": "stream",
     "text": [
      "Calculation of AUC-ROC score Only one class present in y_true. ROC AUC score is not defined in that case.\n"
     ]
    },
    {
     "name": "stderr",
     "output_type": "stream",
     "text": [
      "12it [00:23,  2.00s/it]\n"
     ]
    },
    {
     "name": "stdout",
     "output_type": "stream",
     "text": [
      "AUC-ROC Score of  OneClassSVM: 0.41667951778147294\n",
      "-------------------- TEST RESULTS --------------------\n",
      "{'agg_abs_reg_aucroc': 0.859137813120206,\n",
      " 'agg_sqr_reg_aucroc': 0.8495832886338035,\n",
      " 'mean_abs_vid_aucroc': 0.9182424731713481,\n",
      " 'mean_sqr_vid_aucroc': 0.8342097128196919,\n",
      " 'overall_abs_aucroc': 0.7041349300005364,\n",
      " 'overall_sqr_aucroc': 0.6851231025049617}\n",
      "======================================================\n",
      "========================================\n"
     ]
    },
    {
     "data": {
      "text/plain": [
       "<Figure size 432x288 with 0 Axes>"
      ]
     },
     "metadata": {},
     "output_type": "display_data"
    }
   ],
   "source": [
    "for ae_model in trainer.autoencoder_models:\n",
    "    print(\"-\"*40)\n",
    "    print(ae_model.model_file)\n",
    "    tester = AutoEncoder_Tester(\n",
    "        ae_model.model,\n",
    "        test_data,\n",
    "    )\n",
    "    results = tester.test(save_as = \".pkl\".join(ae_model.model_file.split(\".pth.tar\")))\n",
    "    print(\"=\"*40)"
   ]
  }
 ],
 "metadata": {
  "kernelspec": {
   "display_name": "Python 3",
   "language": "python",
   "name": "python3"
  },
  "language_info": {
   "codemirror_mode": {
    "name": "ipython",
    "version": 3
   },
   "file_extension": ".py",
   "mimetype": "text/x-python",
   "name": "python",
   "nbconvert_exporter": "python",
   "pygments_lexer": "ipython3",
   "version": "3.6.9"
  }
 },
 "nbformat": 4,
 "nbformat_minor": 4
}
